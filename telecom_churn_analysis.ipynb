{
 "cells": [
  {
   "cell_type": "markdown",
   "id": "67934236",
   "metadata": {},
   "source": [
    "# Part-1: Data Exploration and Pre-processing "
   ]
  },
  {
   "cell_type": "markdown",
   "id": "5ef90e31",
   "metadata": {},
   "source": [
    "# 1)  load the given dataset "
   ]
  },
  {
   "cell_type": "code",
   "execution_count": 1,
   "id": "675bac4f",
   "metadata": {},
   "outputs": [],
   "source": [
    "import pandas as pd\n",
    "import numpy as np\n"
   ]
  },
  {
   "cell_type": "code",
   "execution_count": 2,
   "id": "9faa14ec",
   "metadata": {},
   "outputs": [],
   "source": [
    "df = pd.read_csv(\"Python_Case_Studytop.csv\")"
   ]
  },
  {
   "cell_type": "code",
   "execution_count": 3,
   "id": "54964f9d",
   "metadata": {},
   "outputs": [
    {
     "data": {
      "text/html": [
       "<div>\n",
       "<style scoped>\n",
       "    .dataframe tbody tr th:only-of-type {\n",
       "        vertical-align: middle;\n",
       "    }\n",
       "\n",
       "    .dataframe tbody tr th {\n",
       "        vertical-align: top;\n",
       "    }\n",
       "\n",
       "    .dataframe thead th {\n",
       "        text-align: right;\n",
       "    }\n",
       "</style>\n",
       "<table border=\"1\" class=\"dataframe\">\n",
       "  <thead>\n",
       "    <tr style=\"text-align: right;\">\n",
       "      <th></th>\n",
       "      <th>State</th>\n",
       "      <th>Account length</th>\n",
       "      <th>Area code</th>\n",
       "      <th>International plan</th>\n",
       "      <th>Voice mail plan</th>\n",
       "      <th>Number vmail messages</th>\n",
       "      <th>Total day minutes</th>\n",
       "      <th>Total day calls</th>\n",
       "      <th>Total day charge</th>\n",
       "      <th>Total eve minutes</th>\n",
       "      <th>Total eve calls</th>\n",
       "      <th>Total eve charge</th>\n",
       "      <th>Total night minutes</th>\n",
       "      <th>Total night calls</th>\n",
       "      <th>Total night charge</th>\n",
       "      <th>Total intl minutes</th>\n",
       "      <th>Total intl calls</th>\n",
       "      <th>Total intl charge</th>\n",
       "      <th>Customer service calls</th>\n",
       "      <th>Churn</th>\n",
       "    </tr>\n",
       "  </thead>\n",
       "  <tbody>\n",
       "    <tr>\n",
       "      <th>0</th>\n",
       "      <td>KS</td>\n",
       "      <td>128</td>\n",
       "      <td>415</td>\n",
       "      <td>No</td>\n",
       "      <td>Yes</td>\n",
       "      <td>25</td>\n",
       "      <td>265.1</td>\n",
       "      <td>110</td>\n",
       "      <td>45.07</td>\n",
       "      <td>197.4</td>\n",
       "      <td>99</td>\n",
       "      <td>16.78</td>\n",
       "      <td>244.7</td>\n",
       "      <td>91</td>\n",
       "      <td>11.01</td>\n",
       "      <td>10.0</td>\n",
       "      <td>3</td>\n",
       "      <td>2.70</td>\n",
       "      <td>1</td>\n",
       "      <td>False</td>\n",
       "    </tr>\n",
       "    <tr>\n",
       "      <th>1</th>\n",
       "      <td>OH</td>\n",
       "      <td>107</td>\n",
       "      <td>415</td>\n",
       "      <td>No</td>\n",
       "      <td>Yes</td>\n",
       "      <td>26</td>\n",
       "      <td>161.6</td>\n",
       "      <td>123</td>\n",
       "      <td>27.47</td>\n",
       "      <td>195.5</td>\n",
       "      <td>103</td>\n",
       "      <td>16.62</td>\n",
       "      <td>254.4</td>\n",
       "      <td>103</td>\n",
       "      <td>11.45</td>\n",
       "      <td>13.7</td>\n",
       "      <td>3</td>\n",
       "      <td>3.70</td>\n",
       "      <td>1</td>\n",
       "      <td>False</td>\n",
       "    </tr>\n",
       "    <tr>\n",
       "      <th>2</th>\n",
       "      <td>NJ</td>\n",
       "      <td>137</td>\n",
       "      <td>415</td>\n",
       "      <td>No</td>\n",
       "      <td>No</td>\n",
       "      <td>0</td>\n",
       "      <td>243.4</td>\n",
       "      <td>114</td>\n",
       "      <td>41.38</td>\n",
       "      <td>121.2</td>\n",
       "      <td>110</td>\n",
       "      <td>10.30</td>\n",
       "      <td>162.6</td>\n",
       "      <td>104</td>\n",
       "      <td>7.32</td>\n",
       "      <td>12.2</td>\n",
       "      <td>5</td>\n",
       "      <td>3.29</td>\n",
       "      <td>0</td>\n",
       "      <td>False</td>\n",
       "    </tr>\n",
       "    <tr>\n",
       "      <th>3</th>\n",
       "      <td>OH</td>\n",
       "      <td>84</td>\n",
       "      <td>408</td>\n",
       "      <td>Yes</td>\n",
       "      <td>No</td>\n",
       "      <td>0</td>\n",
       "      <td>299.4</td>\n",
       "      <td>71</td>\n",
       "      <td>50.90</td>\n",
       "      <td>61.9</td>\n",
       "      <td>88</td>\n",
       "      <td>5.26</td>\n",
       "      <td>196.9</td>\n",
       "      <td>89</td>\n",
       "      <td>8.86</td>\n",
       "      <td>6.6</td>\n",
       "      <td>7</td>\n",
       "      <td>1.78</td>\n",
       "      <td>2</td>\n",
       "      <td>False</td>\n",
       "    </tr>\n",
       "    <tr>\n",
       "      <th>4</th>\n",
       "      <td>OK</td>\n",
       "      <td>75</td>\n",
       "      <td>415</td>\n",
       "      <td>Yes</td>\n",
       "      <td>No</td>\n",
       "      <td>0</td>\n",
       "      <td>166.7</td>\n",
       "      <td>113</td>\n",
       "      <td>28.34</td>\n",
       "      <td>148.3</td>\n",
       "      <td>122</td>\n",
       "      <td>12.61</td>\n",
       "      <td>186.9</td>\n",
       "      <td>121</td>\n",
       "      <td>8.41</td>\n",
       "      <td>10.1</td>\n",
       "      <td>3</td>\n",
       "      <td>2.73</td>\n",
       "      <td>3</td>\n",
       "      <td>False</td>\n",
       "    </tr>\n",
       "    <tr>\n",
       "      <th>...</th>\n",
       "      <td>...</td>\n",
       "      <td>...</td>\n",
       "      <td>...</td>\n",
       "      <td>...</td>\n",
       "      <td>...</td>\n",
       "      <td>...</td>\n",
       "      <td>...</td>\n",
       "      <td>...</td>\n",
       "      <td>...</td>\n",
       "      <td>...</td>\n",
       "      <td>...</td>\n",
       "      <td>...</td>\n",
       "      <td>...</td>\n",
       "      <td>...</td>\n",
       "      <td>...</td>\n",
       "      <td>...</td>\n",
       "      <td>...</td>\n",
       "      <td>...</td>\n",
       "      <td>...</td>\n",
       "      <td>...</td>\n",
       "    </tr>\n",
       "    <tr>\n",
       "      <th>2661</th>\n",
       "      <td>SC</td>\n",
       "      <td>79</td>\n",
       "      <td>415</td>\n",
       "      <td>No</td>\n",
       "      <td>No</td>\n",
       "      <td>0</td>\n",
       "      <td>134.7</td>\n",
       "      <td>98</td>\n",
       "      <td>22.90</td>\n",
       "      <td>189.7</td>\n",
       "      <td>68</td>\n",
       "      <td>16.12</td>\n",
       "      <td>221.4</td>\n",
       "      <td>128</td>\n",
       "      <td>9.96</td>\n",
       "      <td>11.8</td>\n",
       "      <td>5</td>\n",
       "      <td>3.19</td>\n",
       "      <td>2</td>\n",
       "      <td>False</td>\n",
       "    </tr>\n",
       "    <tr>\n",
       "      <th>2662</th>\n",
       "      <td>AZ</td>\n",
       "      <td>192</td>\n",
       "      <td>415</td>\n",
       "      <td>No</td>\n",
       "      <td>Yes</td>\n",
       "      <td>36</td>\n",
       "      <td>156.2</td>\n",
       "      <td>77</td>\n",
       "      <td>26.55</td>\n",
       "      <td>215.5</td>\n",
       "      <td>126</td>\n",
       "      <td>18.32</td>\n",
       "      <td>279.1</td>\n",
       "      <td>83</td>\n",
       "      <td>12.56</td>\n",
       "      <td>9.9</td>\n",
       "      <td>6</td>\n",
       "      <td>2.67</td>\n",
       "      <td>2</td>\n",
       "      <td>False</td>\n",
       "    </tr>\n",
       "    <tr>\n",
       "      <th>2663</th>\n",
       "      <td>WV</td>\n",
       "      <td>68</td>\n",
       "      <td>415</td>\n",
       "      <td>No</td>\n",
       "      <td>No</td>\n",
       "      <td>0</td>\n",
       "      <td>231.1</td>\n",
       "      <td>57</td>\n",
       "      <td>39.29</td>\n",
       "      <td>153.4</td>\n",
       "      <td>55</td>\n",
       "      <td>13.04</td>\n",
       "      <td>191.3</td>\n",
       "      <td>123</td>\n",
       "      <td>8.61</td>\n",
       "      <td>9.6</td>\n",
       "      <td>4</td>\n",
       "      <td>2.59</td>\n",
       "      <td>3</td>\n",
       "      <td>False</td>\n",
       "    </tr>\n",
       "    <tr>\n",
       "      <th>2664</th>\n",
       "      <td>RI</td>\n",
       "      <td>28</td>\n",
       "      <td>510</td>\n",
       "      <td>No</td>\n",
       "      <td>No</td>\n",
       "      <td>0</td>\n",
       "      <td>180.8</td>\n",
       "      <td>109</td>\n",
       "      <td>30.74</td>\n",
       "      <td>288.8</td>\n",
       "      <td>58</td>\n",
       "      <td>24.55</td>\n",
       "      <td>191.9</td>\n",
       "      <td>91</td>\n",
       "      <td>8.64</td>\n",
       "      <td>14.1</td>\n",
       "      <td>6</td>\n",
       "      <td>3.81</td>\n",
       "      <td>2</td>\n",
       "      <td>False</td>\n",
       "    </tr>\n",
       "    <tr>\n",
       "      <th>2665</th>\n",
       "      <td>TN</td>\n",
       "      <td>74</td>\n",
       "      <td>415</td>\n",
       "      <td>No</td>\n",
       "      <td>Yes</td>\n",
       "      <td>25</td>\n",
       "      <td>234.4</td>\n",
       "      <td>113</td>\n",
       "      <td>39.85</td>\n",
       "      <td>265.9</td>\n",
       "      <td>82</td>\n",
       "      <td>22.60</td>\n",
       "      <td>241.4</td>\n",
       "      <td>77</td>\n",
       "      <td>10.86</td>\n",
       "      <td>13.7</td>\n",
       "      <td>4</td>\n",
       "      <td>3.70</td>\n",
       "      <td>0</td>\n",
       "      <td>False</td>\n",
       "    </tr>\n",
       "  </tbody>\n",
       "</table>\n",
       "<p>2666 rows × 20 columns</p>\n",
       "</div>"
      ],
      "text/plain": [
       "     State  Account length  Area code International plan Voice mail plan  \\\n",
       "0       KS             128        415                 No             Yes   \n",
       "1       OH             107        415                 No             Yes   \n",
       "2       NJ             137        415                 No              No   \n",
       "3       OH              84        408                Yes              No   \n",
       "4       OK              75        415                Yes              No   \n",
       "...    ...             ...        ...                ...             ...   \n",
       "2661    SC              79        415                 No              No   \n",
       "2662    AZ             192        415                 No             Yes   \n",
       "2663    WV              68        415                 No              No   \n",
       "2664    RI              28        510                 No              No   \n",
       "2665    TN              74        415                 No             Yes   \n",
       "\n",
       "      Number vmail messages  Total day minutes  Total day calls  \\\n",
       "0                        25              265.1              110   \n",
       "1                        26              161.6              123   \n",
       "2                         0              243.4              114   \n",
       "3                         0              299.4               71   \n",
       "4                         0              166.7              113   \n",
       "...                     ...                ...              ...   \n",
       "2661                      0              134.7               98   \n",
       "2662                     36              156.2               77   \n",
       "2663                      0              231.1               57   \n",
       "2664                      0              180.8              109   \n",
       "2665                     25              234.4              113   \n",
       "\n",
       "      Total day charge  Total eve minutes  Total eve calls  Total eve charge  \\\n",
       "0                45.07              197.4               99             16.78   \n",
       "1                27.47              195.5              103             16.62   \n",
       "2                41.38              121.2              110             10.30   \n",
       "3                50.90               61.9               88              5.26   \n",
       "4                28.34              148.3              122             12.61   \n",
       "...                ...                ...              ...               ...   \n",
       "2661             22.90              189.7               68             16.12   \n",
       "2662             26.55              215.5              126             18.32   \n",
       "2663             39.29              153.4               55             13.04   \n",
       "2664             30.74              288.8               58             24.55   \n",
       "2665             39.85              265.9               82             22.60   \n",
       "\n",
       "      Total night minutes  Total night calls  Total night charge  \\\n",
       "0                   244.7                 91               11.01   \n",
       "1                   254.4                103               11.45   \n",
       "2                   162.6                104                7.32   \n",
       "3                   196.9                 89                8.86   \n",
       "4                   186.9                121                8.41   \n",
       "...                   ...                ...                 ...   \n",
       "2661                221.4                128                9.96   \n",
       "2662                279.1                 83               12.56   \n",
       "2663                191.3                123                8.61   \n",
       "2664                191.9                 91                8.64   \n",
       "2665                241.4                 77               10.86   \n",
       "\n",
       "      Total intl minutes  Total intl calls  Total intl charge  \\\n",
       "0                   10.0                 3               2.70   \n",
       "1                   13.7                 3               3.70   \n",
       "2                   12.2                 5               3.29   \n",
       "3                    6.6                 7               1.78   \n",
       "4                   10.1                 3               2.73   \n",
       "...                  ...               ...                ...   \n",
       "2661                11.8                 5               3.19   \n",
       "2662                 9.9                 6               2.67   \n",
       "2663                 9.6                 4               2.59   \n",
       "2664                14.1                 6               3.81   \n",
       "2665                13.7                 4               3.70   \n",
       "\n",
       "      Customer service calls  Churn  \n",
       "0                          1  False  \n",
       "1                          1  False  \n",
       "2                          0  False  \n",
       "3                          2  False  \n",
       "4                          3  False  \n",
       "...                      ...    ...  \n",
       "2661                       2  False  \n",
       "2662                       2  False  \n",
       "2663                       3  False  \n",
       "2664                       2  False  \n",
       "2665                       0  False  \n",
       "\n",
       "[2666 rows x 20 columns]"
      ]
     },
     "execution_count": 3,
     "metadata": {},
     "output_type": "execute_result"
    }
   ],
   "source": [
    "df"
   ]
  },
  {
   "cell_type": "markdown",
   "id": "9e732ff8",
   "metadata": {},
   "source": [
    "# 2)  print all the column names "
   ]
  },
  {
   "cell_type": "code",
   "execution_count": 4,
   "id": "633fa8d7",
   "metadata": {},
   "outputs": [
    {
     "data": {
      "text/plain": [
       "Index(['State', 'Account length', 'Area code', 'International plan',\n",
       "       'Voice mail plan', 'Number vmail messages', 'Total day minutes',\n",
       "       'Total day calls', 'Total day charge', 'Total eve minutes',\n",
       "       'Total eve calls', 'Total eve charge', 'Total night minutes',\n",
       "       'Total night calls', 'Total night charge', 'Total intl minutes',\n",
       "       'Total intl calls', 'Total intl charge', 'Customer service calls',\n",
       "       'Churn'],\n",
       "      dtype='object')"
      ]
     },
     "execution_count": 4,
     "metadata": {},
     "output_type": "execute_result"
    }
   ],
   "source": [
    "df.columns"
   ]
  },
  {
   "cell_type": "markdown",
   "id": "00c71071",
   "metadata": {},
   "source": [
    "# 3)  describe the data  "
   ]
  },
  {
   "cell_type": "code",
   "execution_count": 5,
   "id": "d54c5c19",
   "metadata": {},
   "outputs": [
    {
     "data": {
      "text/html": [
       "<div>\n",
       "<style scoped>\n",
       "    .dataframe tbody tr th:only-of-type {\n",
       "        vertical-align: middle;\n",
       "    }\n",
       "\n",
       "    .dataframe tbody tr th {\n",
       "        vertical-align: top;\n",
       "    }\n",
       "\n",
       "    .dataframe thead th {\n",
       "        text-align: right;\n",
       "    }\n",
       "</style>\n",
       "<table border=\"1\" class=\"dataframe\">\n",
       "  <thead>\n",
       "    <tr style=\"text-align: right;\">\n",
       "      <th></th>\n",
       "      <th>Account length</th>\n",
       "      <th>Area code</th>\n",
       "      <th>Number vmail messages</th>\n",
       "      <th>Total day minutes</th>\n",
       "      <th>Total day calls</th>\n",
       "      <th>Total day charge</th>\n",
       "      <th>Total eve minutes</th>\n",
       "      <th>Total eve calls</th>\n",
       "      <th>Total eve charge</th>\n",
       "      <th>Total night minutes</th>\n",
       "      <th>Total night calls</th>\n",
       "      <th>Total night charge</th>\n",
       "      <th>Total intl minutes</th>\n",
       "      <th>Total intl calls</th>\n",
       "      <th>Total intl charge</th>\n",
       "      <th>Customer service calls</th>\n",
       "    </tr>\n",
       "  </thead>\n",
       "  <tbody>\n",
       "    <tr>\n",
       "      <th>count</th>\n",
       "      <td>2666.000000</td>\n",
       "      <td>2666.000000</td>\n",
       "      <td>2666.000000</td>\n",
       "      <td>2666.00000</td>\n",
       "      <td>2666.000000</td>\n",
       "      <td>2666.000000</td>\n",
       "      <td>2666.000000</td>\n",
       "      <td>2666.000000</td>\n",
       "      <td>2666.000000</td>\n",
       "      <td>2666.000000</td>\n",
       "      <td>2666.000000</td>\n",
       "      <td>2666.000000</td>\n",
       "      <td>2666.000000</td>\n",
       "      <td>2666.000000</td>\n",
       "      <td>2666.000000</td>\n",
       "      <td>2666.000000</td>\n",
       "    </tr>\n",
       "    <tr>\n",
       "      <th>mean</th>\n",
       "      <td>100.620405</td>\n",
       "      <td>437.438860</td>\n",
       "      <td>8.021755</td>\n",
       "      <td>179.48162</td>\n",
       "      <td>100.310203</td>\n",
       "      <td>30.512404</td>\n",
       "      <td>200.386159</td>\n",
       "      <td>100.023631</td>\n",
       "      <td>17.033072</td>\n",
       "      <td>201.168942</td>\n",
       "      <td>100.106152</td>\n",
       "      <td>9.052689</td>\n",
       "      <td>10.237022</td>\n",
       "      <td>4.467367</td>\n",
       "      <td>2.764490</td>\n",
       "      <td>1.562641</td>\n",
       "    </tr>\n",
       "    <tr>\n",
       "      <th>std</th>\n",
       "      <td>39.563974</td>\n",
       "      <td>42.521018</td>\n",
       "      <td>13.612277</td>\n",
       "      <td>54.21035</td>\n",
       "      <td>19.988162</td>\n",
       "      <td>9.215733</td>\n",
       "      <td>50.951515</td>\n",
       "      <td>20.161445</td>\n",
       "      <td>4.330864</td>\n",
       "      <td>50.780323</td>\n",
       "      <td>19.418459</td>\n",
       "      <td>2.285120</td>\n",
       "      <td>2.788349</td>\n",
       "      <td>2.456195</td>\n",
       "      <td>0.752812</td>\n",
       "      <td>1.311236</td>\n",
       "    </tr>\n",
       "    <tr>\n",
       "      <th>min</th>\n",
       "      <td>1.000000</td>\n",
       "      <td>408.000000</td>\n",
       "      <td>0.000000</td>\n",
       "      <td>0.00000</td>\n",
       "      <td>0.000000</td>\n",
       "      <td>0.000000</td>\n",
       "      <td>0.000000</td>\n",
       "      <td>0.000000</td>\n",
       "      <td>0.000000</td>\n",
       "      <td>43.700000</td>\n",
       "      <td>33.000000</td>\n",
       "      <td>1.970000</td>\n",
       "      <td>0.000000</td>\n",
       "      <td>0.000000</td>\n",
       "      <td>0.000000</td>\n",
       "      <td>0.000000</td>\n",
       "    </tr>\n",
       "    <tr>\n",
       "      <th>25%</th>\n",
       "      <td>73.000000</td>\n",
       "      <td>408.000000</td>\n",
       "      <td>0.000000</td>\n",
       "      <td>143.40000</td>\n",
       "      <td>87.000000</td>\n",
       "      <td>24.380000</td>\n",
       "      <td>165.300000</td>\n",
       "      <td>87.000000</td>\n",
       "      <td>14.050000</td>\n",
       "      <td>166.925000</td>\n",
       "      <td>87.000000</td>\n",
       "      <td>7.512500</td>\n",
       "      <td>8.500000</td>\n",
       "      <td>3.000000</td>\n",
       "      <td>2.300000</td>\n",
       "      <td>1.000000</td>\n",
       "    </tr>\n",
       "    <tr>\n",
       "      <th>50%</th>\n",
       "      <td>100.000000</td>\n",
       "      <td>415.000000</td>\n",
       "      <td>0.000000</td>\n",
       "      <td>179.95000</td>\n",
       "      <td>101.000000</td>\n",
       "      <td>30.590000</td>\n",
       "      <td>200.900000</td>\n",
       "      <td>100.000000</td>\n",
       "      <td>17.080000</td>\n",
       "      <td>201.150000</td>\n",
       "      <td>100.000000</td>\n",
       "      <td>9.050000</td>\n",
       "      <td>10.200000</td>\n",
       "      <td>4.000000</td>\n",
       "      <td>2.750000</td>\n",
       "      <td>1.000000</td>\n",
       "    </tr>\n",
       "    <tr>\n",
       "      <th>75%</th>\n",
       "      <td>127.000000</td>\n",
       "      <td>510.000000</td>\n",
       "      <td>19.000000</td>\n",
       "      <td>215.90000</td>\n",
       "      <td>114.000000</td>\n",
       "      <td>36.700000</td>\n",
       "      <td>235.100000</td>\n",
       "      <td>114.000000</td>\n",
       "      <td>19.980000</td>\n",
       "      <td>236.475000</td>\n",
       "      <td>113.000000</td>\n",
       "      <td>10.640000</td>\n",
       "      <td>12.100000</td>\n",
       "      <td>6.000000</td>\n",
       "      <td>3.270000</td>\n",
       "      <td>2.000000</td>\n",
       "    </tr>\n",
       "    <tr>\n",
       "      <th>max</th>\n",
       "      <td>243.000000</td>\n",
       "      <td>510.000000</td>\n",
       "      <td>50.000000</td>\n",
       "      <td>350.80000</td>\n",
       "      <td>160.000000</td>\n",
       "      <td>59.640000</td>\n",
       "      <td>363.700000</td>\n",
       "      <td>170.000000</td>\n",
       "      <td>30.910000</td>\n",
       "      <td>395.000000</td>\n",
       "      <td>166.000000</td>\n",
       "      <td>17.770000</td>\n",
       "      <td>20.000000</td>\n",
       "      <td>20.000000</td>\n",
       "      <td>5.400000</td>\n",
       "      <td>9.000000</td>\n",
       "    </tr>\n",
       "  </tbody>\n",
       "</table>\n",
       "</div>"
      ],
      "text/plain": [
       "       Account length    Area code  Number vmail messages  Total day minutes  \\\n",
       "count     2666.000000  2666.000000            2666.000000         2666.00000   \n",
       "mean       100.620405   437.438860               8.021755          179.48162   \n",
       "std         39.563974    42.521018              13.612277           54.21035   \n",
       "min          1.000000   408.000000               0.000000            0.00000   \n",
       "25%         73.000000   408.000000               0.000000          143.40000   \n",
       "50%        100.000000   415.000000               0.000000          179.95000   \n",
       "75%        127.000000   510.000000              19.000000          215.90000   \n",
       "max        243.000000   510.000000              50.000000          350.80000   \n",
       "\n",
       "       Total day calls  Total day charge  Total eve minutes  Total eve calls  \\\n",
       "count      2666.000000       2666.000000        2666.000000      2666.000000   \n",
       "mean        100.310203         30.512404         200.386159       100.023631   \n",
       "std          19.988162          9.215733          50.951515        20.161445   \n",
       "min           0.000000          0.000000           0.000000         0.000000   \n",
       "25%          87.000000         24.380000         165.300000        87.000000   \n",
       "50%         101.000000         30.590000         200.900000       100.000000   \n",
       "75%         114.000000         36.700000         235.100000       114.000000   \n",
       "max         160.000000         59.640000         363.700000       170.000000   \n",
       "\n",
       "       Total eve charge  Total night minutes  Total night calls  \\\n",
       "count       2666.000000          2666.000000        2666.000000   \n",
       "mean          17.033072           201.168942         100.106152   \n",
       "std            4.330864            50.780323          19.418459   \n",
       "min            0.000000            43.700000          33.000000   \n",
       "25%           14.050000           166.925000          87.000000   \n",
       "50%           17.080000           201.150000         100.000000   \n",
       "75%           19.980000           236.475000         113.000000   \n",
       "max           30.910000           395.000000         166.000000   \n",
       "\n",
       "       Total night charge  Total intl minutes  Total intl calls  \\\n",
       "count         2666.000000         2666.000000       2666.000000   \n",
       "mean             9.052689           10.237022          4.467367   \n",
       "std              2.285120            2.788349          2.456195   \n",
       "min              1.970000            0.000000          0.000000   \n",
       "25%              7.512500            8.500000          3.000000   \n",
       "50%              9.050000           10.200000          4.000000   \n",
       "75%             10.640000           12.100000          6.000000   \n",
       "max             17.770000           20.000000         20.000000   \n",
       "\n",
       "       Total intl charge  Customer service calls  \n",
       "count        2666.000000             2666.000000  \n",
       "mean            2.764490                1.562641  \n",
       "std             0.752812                1.311236  \n",
       "min             0.000000                0.000000  \n",
       "25%             2.300000                1.000000  \n",
       "50%             2.750000                1.000000  \n",
       "75%             3.270000                2.000000  \n",
       "max             5.400000                9.000000  "
      ]
     },
     "execution_count": 5,
     "metadata": {},
     "output_type": "execute_result"
    }
   ],
   "source": [
    "df.describe()"
   ]
  },
  {
   "cell_type": "markdown",
   "id": "fcf64b40",
   "metadata": {},
   "source": [
    "# 4)  find all the Null values"
   ]
  },
  {
   "cell_type": "code",
   "execution_count": 6,
   "id": "6e1f4e9d",
   "metadata": {},
   "outputs": [
    {
     "data": {
      "text/plain": [
       "State                     0\n",
       "Account length            0\n",
       "Area code                 0\n",
       "International plan        0\n",
       "Voice mail plan           0\n",
       "Number vmail messages     0\n",
       "Total day minutes         0\n",
       "Total day calls           0\n",
       "Total day charge          0\n",
       "Total eve minutes         0\n",
       "Total eve calls           0\n",
       "Total eve charge          0\n",
       "Total night minutes       0\n",
       "Total night calls         0\n",
       "Total night charge        0\n",
       "Total intl minutes        0\n",
       "Total intl calls          0\n",
       "Total intl charge         0\n",
       "Customer service calls    0\n",
       "Churn                     0\n",
       "dtype: int64"
      ]
     },
     "execution_count": 6,
     "metadata": {},
     "output_type": "execute_result"
    }
   ],
   "source": [
    "df.isnull().sum()"
   ]
  },
  {
   "cell_type": "code",
   "execution_count": 7,
   "id": "f765cbe3",
   "metadata": {},
   "outputs": [
    {
     "name": "stdout",
     "output_type": "stream",
     "text": [
      "<class 'pandas.core.frame.DataFrame'>\n",
      "RangeIndex: 2666 entries, 0 to 2665\n",
      "Data columns (total 20 columns):\n",
      " #   Column                  Non-Null Count  Dtype  \n",
      "---  ------                  --------------  -----  \n",
      " 0   State                   2666 non-null   object \n",
      " 1   Account length          2666 non-null   int64  \n",
      " 2   Area code               2666 non-null   int64  \n",
      " 3   International plan      2666 non-null   object \n",
      " 4   Voice mail plan         2666 non-null   object \n",
      " 5   Number vmail messages   2666 non-null   int64  \n",
      " 6   Total day minutes       2666 non-null   float64\n",
      " 7   Total day calls         2666 non-null   int64  \n",
      " 8   Total day charge        2666 non-null   float64\n",
      " 9   Total eve minutes       2666 non-null   float64\n",
      " 10  Total eve calls         2666 non-null   int64  \n",
      " 11  Total eve charge        2666 non-null   float64\n",
      " 12  Total night minutes     2666 non-null   float64\n",
      " 13  Total night calls       2666 non-null   int64  \n",
      " 14  Total night charge      2666 non-null   float64\n",
      " 15  Total intl minutes      2666 non-null   float64\n",
      " 16  Total intl calls        2666 non-null   int64  \n",
      " 17  Total intl charge       2666 non-null   float64\n",
      " 18  Customer service calls  2666 non-null   int64  \n",
      " 19  Churn                   2666 non-null   bool   \n",
      "dtypes: bool(1), float64(8), int64(8), object(3)\n",
      "memory usage: 398.5+ KB\n"
     ]
    }
   ],
   "source": [
    "df.info()"
   ]
  },
  {
   "cell_type": "code",
   "execution_count": 8,
   "id": "f890e20d",
   "metadata": {},
   "outputs": [],
   "source": [
    "df[\"Churn\"] = df[\"Churn\"].astype(\"int64\")"
   ]
  },
  {
   "cell_type": "code",
   "execution_count": 9,
   "id": "8378323a",
   "metadata": {},
   "outputs": [
    {
     "name": "stdout",
     "output_type": "stream",
     "text": [
      "<class 'pandas.core.frame.DataFrame'>\n",
      "RangeIndex: 2666 entries, 0 to 2665\n",
      "Data columns (total 20 columns):\n",
      " #   Column                  Non-Null Count  Dtype  \n",
      "---  ------                  --------------  -----  \n",
      " 0   State                   2666 non-null   object \n",
      " 1   Account length          2666 non-null   int64  \n",
      " 2   Area code               2666 non-null   int64  \n",
      " 3   International plan      2666 non-null   object \n",
      " 4   Voice mail plan         2666 non-null   object \n",
      " 5   Number vmail messages   2666 non-null   int64  \n",
      " 6   Total day minutes       2666 non-null   float64\n",
      " 7   Total day calls         2666 non-null   int64  \n",
      " 8   Total day charge        2666 non-null   float64\n",
      " 9   Total eve minutes       2666 non-null   float64\n",
      " 10  Total eve calls         2666 non-null   int64  \n",
      " 11  Total eve charge        2666 non-null   float64\n",
      " 12  Total night minutes     2666 non-null   float64\n",
      " 13  Total night calls       2666 non-null   int64  \n",
      " 14  Total night charge      2666 non-null   float64\n",
      " 15  Total intl minutes      2666 non-null   float64\n",
      " 16  Total intl calls        2666 non-null   int64  \n",
      " 17  Total intl charge       2666 non-null   float64\n",
      " 18  Customer service calls  2666 non-null   int64  \n",
      " 19  Churn                   2666 non-null   int64  \n",
      "dtypes: float64(8), int64(9), object(3)\n",
      "memory usage: 416.7+ KB\n"
     ]
    }
   ],
   "source": [
    "df.info()"
   ]
  },
  {
   "cell_type": "code",
   "execution_count": 10,
   "id": "a561d90d",
   "metadata": {},
   "outputs": [
    {
     "data": {
      "text/html": [
       "<div>\n",
       "<style scoped>\n",
       "    .dataframe tbody tr th:only-of-type {\n",
       "        vertical-align: middle;\n",
       "    }\n",
       "\n",
       "    .dataframe tbody tr th {\n",
       "        vertical-align: top;\n",
       "    }\n",
       "\n",
       "    .dataframe thead th {\n",
       "        text-align: right;\n",
       "    }\n",
       "</style>\n",
       "<table border=\"1\" class=\"dataframe\">\n",
       "  <thead>\n",
       "    <tr style=\"text-align: right;\">\n",
       "      <th></th>\n",
       "      <th>Account length</th>\n",
       "      <th>Area code</th>\n",
       "      <th>Number vmail messages</th>\n",
       "      <th>Total day minutes</th>\n",
       "      <th>Total day calls</th>\n",
       "      <th>Total day charge</th>\n",
       "      <th>Total eve minutes</th>\n",
       "      <th>Total eve calls</th>\n",
       "      <th>Total eve charge</th>\n",
       "      <th>Total night minutes</th>\n",
       "      <th>Total night calls</th>\n",
       "      <th>Total night charge</th>\n",
       "      <th>Total intl minutes</th>\n",
       "      <th>Total intl calls</th>\n",
       "      <th>Total intl charge</th>\n",
       "      <th>Customer service calls</th>\n",
       "      <th>Churn</th>\n",
       "    </tr>\n",
       "  </thead>\n",
       "  <tbody>\n",
       "    <tr>\n",
       "      <th>count</th>\n",
       "      <td>2666.000000</td>\n",
       "      <td>2666.000000</td>\n",
       "      <td>2666.000000</td>\n",
       "      <td>2666.00000</td>\n",
       "      <td>2666.000000</td>\n",
       "      <td>2666.000000</td>\n",
       "      <td>2666.000000</td>\n",
       "      <td>2666.000000</td>\n",
       "      <td>2666.000000</td>\n",
       "      <td>2666.000000</td>\n",
       "      <td>2666.000000</td>\n",
       "      <td>2666.000000</td>\n",
       "      <td>2666.000000</td>\n",
       "      <td>2666.000000</td>\n",
       "      <td>2666.000000</td>\n",
       "      <td>2666.000000</td>\n",
       "      <td>2666.000000</td>\n",
       "    </tr>\n",
       "    <tr>\n",
       "      <th>mean</th>\n",
       "      <td>100.620405</td>\n",
       "      <td>437.438860</td>\n",
       "      <td>8.021755</td>\n",
       "      <td>179.48162</td>\n",
       "      <td>100.310203</td>\n",
       "      <td>30.512404</td>\n",
       "      <td>200.386159</td>\n",
       "      <td>100.023631</td>\n",
       "      <td>17.033072</td>\n",
       "      <td>201.168942</td>\n",
       "      <td>100.106152</td>\n",
       "      <td>9.052689</td>\n",
       "      <td>10.237022</td>\n",
       "      <td>4.467367</td>\n",
       "      <td>2.764490</td>\n",
       "      <td>1.562641</td>\n",
       "      <td>0.145536</td>\n",
       "    </tr>\n",
       "    <tr>\n",
       "      <th>std</th>\n",
       "      <td>39.563974</td>\n",
       "      <td>42.521018</td>\n",
       "      <td>13.612277</td>\n",
       "      <td>54.21035</td>\n",
       "      <td>19.988162</td>\n",
       "      <td>9.215733</td>\n",
       "      <td>50.951515</td>\n",
       "      <td>20.161445</td>\n",
       "      <td>4.330864</td>\n",
       "      <td>50.780323</td>\n",
       "      <td>19.418459</td>\n",
       "      <td>2.285120</td>\n",
       "      <td>2.788349</td>\n",
       "      <td>2.456195</td>\n",
       "      <td>0.752812</td>\n",
       "      <td>1.311236</td>\n",
       "      <td>0.352707</td>\n",
       "    </tr>\n",
       "    <tr>\n",
       "      <th>min</th>\n",
       "      <td>1.000000</td>\n",
       "      <td>408.000000</td>\n",
       "      <td>0.000000</td>\n",
       "      <td>0.00000</td>\n",
       "      <td>0.000000</td>\n",
       "      <td>0.000000</td>\n",
       "      <td>0.000000</td>\n",
       "      <td>0.000000</td>\n",
       "      <td>0.000000</td>\n",
       "      <td>43.700000</td>\n",
       "      <td>33.000000</td>\n",
       "      <td>1.970000</td>\n",
       "      <td>0.000000</td>\n",
       "      <td>0.000000</td>\n",
       "      <td>0.000000</td>\n",
       "      <td>0.000000</td>\n",
       "      <td>0.000000</td>\n",
       "    </tr>\n",
       "    <tr>\n",
       "      <th>25%</th>\n",
       "      <td>73.000000</td>\n",
       "      <td>408.000000</td>\n",
       "      <td>0.000000</td>\n",
       "      <td>143.40000</td>\n",
       "      <td>87.000000</td>\n",
       "      <td>24.380000</td>\n",
       "      <td>165.300000</td>\n",
       "      <td>87.000000</td>\n",
       "      <td>14.050000</td>\n",
       "      <td>166.925000</td>\n",
       "      <td>87.000000</td>\n",
       "      <td>7.512500</td>\n",
       "      <td>8.500000</td>\n",
       "      <td>3.000000</td>\n",
       "      <td>2.300000</td>\n",
       "      <td>1.000000</td>\n",
       "      <td>0.000000</td>\n",
       "    </tr>\n",
       "    <tr>\n",
       "      <th>50%</th>\n",
       "      <td>100.000000</td>\n",
       "      <td>415.000000</td>\n",
       "      <td>0.000000</td>\n",
       "      <td>179.95000</td>\n",
       "      <td>101.000000</td>\n",
       "      <td>30.590000</td>\n",
       "      <td>200.900000</td>\n",
       "      <td>100.000000</td>\n",
       "      <td>17.080000</td>\n",
       "      <td>201.150000</td>\n",
       "      <td>100.000000</td>\n",
       "      <td>9.050000</td>\n",
       "      <td>10.200000</td>\n",
       "      <td>4.000000</td>\n",
       "      <td>2.750000</td>\n",
       "      <td>1.000000</td>\n",
       "      <td>0.000000</td>\n",
       "    </tr>\n",
       "    <tr>\n",
       "      <th>75%</th>\n",
       "      <td>127.000000</td>\n",
       "      <td>510.000000</td>\n",
       "      <td>19.000000</td>\n",
       "      <td>215.90000</td>\n",
       "      <td>114.000000</td>\n",
       "      <td>36.700000</td>\n",
       "      <td>235.100000</td>\n",
       "      <td>114.000000</td>\n",
       "      <td>19.980000</td>\n",
       "      <td>236.475000</td>\n",
       "      <td>113.000000</td>\n",
       "      <td>10.640000</td>\n",
       "      <td>12.100000</td>\n",
       "      <td>6.000000</td>\n",
       "      <td>3.270000</td>\n",
       "      <td>2.000000</td>\n",
       "      <td>0.000000</td>\n",
       "    </tr>\n",
       "    <tr>\n",
       "      <th>max</th>\n",
       "      <td>243.000000</td>\n",
       "      <td>510.000000</td>\n",
       "      <td>50.000000</td>\n",
       "      <td>350.80000</td>\n",
       "      <td>160.000000</td>\n",
       "      <td>59.640000</td>\n",
       "      <td>363.700000</td>\n",
       "      <td>170.000000</td>\n",
       "      <td>30.910000</td>\n",
       "      <td>395.000000</td>\n",
       "      <td>166.000000</td>\n",
       "      <td>17.770000</td>\n",
       "      <td>20.000000</td>\n",
       "      <td>20.000000</td>\n",
       "      <td>5.400000</td>\n",
       "      <td>9.000000</td>\n",
       "      <td>1.000000</td>\n",
       "    </tr>\n",
       "  </tbody>\n",
       "</table>\n",
       "</div>"
      ],
      "text/plain": [
       "       Account length    Area code  Number vmail messages  Total day minutes  \\\n",
       "count     2666.000000  2666.000000            2666.000000         2666.00000   \n",
       "mean       100.620405   437.438860               8.021755          179.48162   \n",
       "std         39.563974    42.521018              13.612277           54.21035   \n",
       "min          1.000000   408.000000               0.000000            0.00000   \n",
       "25%         73.000000   408.000000               0.000000          143.40000   \n",
       "50%        100.000000   415.000000               0.000000          179.95000   \n",
       "75%        127.000000   510.000000              19.000000          215.90000   \n",
       "max        243.000000   510.000000              50.000000          350.80000   \n",
       "\n",
       "       Total day calls  Total day charge  Total eve minutes  Total eve calls  \\\n",
       "count      2666.000000       2666.000000        2666.000000      2666.000000   \n",
       "mean        100.310203         30.512404         200.386159       100.023631   \n",
       "std          19.988162          9.215733          50.951515        20.161445   \n",
       "min           0.000000          0.000000           0.000000         0.000000   \n",
       "25%          87.000000         24.380000         165.300000        87.000000   \n",
       "50%         101.000000         30.590000         200.900000       100.000000   \n",
       "75%         114.000000         36.700000         235.100000       114.000000   \n",
       "max         160.000000         59.640000         363.700000       170.000000   \n",
       "\n",
       "       Total eve charge  Total night minutes  Total night calls  \\\n",
       "count       2666.000000          2666.000000        2666.000000   \n",
       "mean          17.033072           201.168942         100.106152   \n",
       "std            4.330864            50.780323          19.418459   \n",
       "min            0.000000            43.700000          33.000000   \n",
       "25%           14.050000           166.925000          87.000000   \n",
       "50%           17.080000           201.150000         100.000000   \n",
       "75%           19.980000           236.475000         113.000000   \n",
       "max           30.910000           395.000000         166.000000   \n",
       "\n",
       "       Total night charge  Total intl minutes  Total intl calls  \\\n",
       "count         2666.000000         2666.000000       2666.000000   \n",
       "mean             9.052689           10.237022          4.467367   \n",
       "std              2.285120            2.788349          2.456195   \n",
       "min              1.970000            0.000000          0.000000   \n",
       "25%              7.512500            8.500000          3.000000   \n",
       "50%              9.050000           10.200000          4.000000   \n",
       "75%             10.640000           12.100000          6.000000   \n",
       "max             17.770000           20.000000         20.000000   \n",
       "\n",
       "       Total intl charge  Customer service calls        Churn  \n",
       "count        2666.000000             2666.000000  2666.000000  \n",
       "mean            2.764490                1.562641     0.145536  \n",
       "std             0.752812                1.311236     0.352707  \n",
       "min             0.000000                0.000000     0.000000  \n",
       "25%             2.300000                1.000000     0.000000  \n",
       "50%             2.750000                1.000000     0.000000  \n",
       "75%             3.270000                2.000000     0.000000  \n",
       "max             5.400000                9.000000     1.000000  "
      ]
     },
     "execution_count": 10,
     "metadata": {},
     "output_type": "execute_result"
    }
   ],
   "source": [
    "df.describe()"
   ]
  },
  {
   "cell_type": "markdown",
   "id": "aa2a920a",
   "metadata": {},
   "source": [
    "# 5)  plot the customers who have international plans "
   ]
  },
  {
   "cell_type": "code",
   "execution_count": 11,
   "id": "6c54588e",
   "metadata": {},
   "outputs": [],
   "source": [
    "import seaborn as sns\n",
    "import matplotlib.pyplot as plt\n"
   ]
  },
  {
   "cell_type": "code",
   "execution_count": 12,
   "id": "acfcf730",
   "metadata": {},
   "outputs": [
    {
     "data": {
      "image/png": "[encoded data removed]",
      "text/plain": [
       "<Figure size 432x288 with 1 Axes>"
      ]
     },
     "metadata": {
      "needs_background": "light"
     },
     "output_type": "display_data"
    }
   ],
   "source": [
    "sns.countplot(x=\"International plan\", hue=\"Churn\", data=df);"
   ]
  },
  {
   "cell_type": "markdown",
   "id": "076780a8",
   "metadata": {},
   "source": [
    "# 6)   plot the customers who have Voice mail plan"
   ]
  },
  {
   "cell_type": "code",
   "execution_count": 13,
   "id": "cd4a022e",
   "metadata": {},
   "outputs": [
    {
     "data": {
      "image/png": "[encoded data removed]",
      "text/plain": [
       "<Figure size 432x288 with 1 Axes>"
      ]
     },
     "metadata": {
      "needs_background": "light"
     },
     "output_type": "display_data"
    }
   ],
   "source": [
    "sns.countplot(x=\"Voice mail plan\",hue=\"Churn\", data=df);"
   ]
  },
  {
   "cell_type": "markdown",
   "id": "bdcd9eb0",
   "metadata": {},
   "source": [
    "# 7)  Plot the total day calls"
   ]
  },
  {
   "cell_type": "code",
   "execution_count": 14,
   "id": "fa8a4557",
   "metadata": {},
   "outputs": [
    {
     "data": {
      "text/plain": [
       "105    62\n",
       "108    59\n",
       "106    59\n",
       "112    58\n",
       "107    57\n",
       "       ..\n",
       "160     1\n",
       "36      1\n",
       "152     1\n",
       "40      1\n",
       "157     1\n",
       "Name: Total day calls, Length: 115, dtype: int64"
      ]
     },
     "execution_count": 14,
     "metadata": {},
     "output_type": "execute_result"
    }
   ],
   "source": [
    "df['Total day calls'].value_counts()"
   ]
  },
  {
   "cell_type": "code",
   "execution_count": 15,
   "id": "0f050ec4",
   "metadata": {},
   "outputs": [
    {
     "name": "stderr",
     "output_type": "stream",
     "text": [
      "C:\\Users\\Foram Mehta\\anaconda3\\lib\\site-packages\\seaborn\\_decorators.py:36: FutureWarning: Pass the following variable as a keyword arg: x. From version 0.12, the only valid positional argument will be `data`, and passing other arguments without an explicit keyword will result in an error or misinterpretation.\n",
      "  warnings.warn(\n"
     ]
    },
    {
     "data": {
      "text/plain": [
       "<AxesSubplot:xlabel='Total day calls'>"
      ]
     },
     "execution_count": 15,
     "metadata": {},
     "output_type": "execute_result"
    },
    {
     "data": {
      "image/png": "[encoded data removed]",
      "text/plain": [
       "<Figure size 432x288 with 1 Axes>"
      ]
     },
     "metadata": {
      "needs_background": "light"
     },
     "output_type": "display_data"
    }
   ],
   "source": [
    "sns.boxplot(df['Total day calls'].value_counts(),data=df)"
   ]
  },
  {
   "cell_type": "markdown",
   "id": "d00e30c2",
   "metadata": {},
   "source": [
    "# 8)  Plot the total day charge "
   ]
  },
  {
   "cell_type": "code",
   "execution_count": 16,
   "id": "e10d97a1",
   "metadata": {},
   "outputs": [
    {
     "data": {
      "text/plain": [
       "<AxesSubplot:>"
      ]
     },
     "execution_count": 16,
     "metadata": {},
     "output_type": "execute_result"
    },
    {
     "data": {
      "image/png": "[encoded data removed]",
      "text/plain": [
       "<Figure size 432x288 with 1 Axes>"
      ]
     },
     "metadata": {
      "needs_background": "light"
     },
     "output_type": "display_data"
    }
   ],
   "source": [
    "df['Total day charge'].value_counts().plot()"
   ]
  },
  {
   "cell_type": "code",
   "execution_count": 17,
   "id": "211f8d41",
   "metadata": {},
   "outputs": [
    {
     "data": {
      "text/plain": [
       "<AxesSubplot:>"
      ]
     },
     "execution_count": 17,
     "metadata": {},
     "output_type": "execute_result"
    },
    {
     "data": {
      "image/png": "[encoded data removed]",
      "text/plain": [
       "<Figure size 432x288 with 1 Axes>"
      ]
     },
     "metadata": {
      "needs_background": "light"
     },
     "output_type": "display_data"
    }
   ],
   "source": [
    "df['Total day charge'].hist()"
   ]
  },
  {
   "cell_type": "markdown",
   "id": "3b2cae79",
   "metadata": {},
   "source": [
    "# 9)  Display pie chart for value count in Churn column"
   ]
  },
  {
   "cell_type": "code",
   "execution_count": 18,
   "id": "4dbb0cf6",
   "metadata": {},
   "outputs": [
    {
     "data": {
      "text/plain": [
       "<AxesSubplot:ylabel='Churn'>"
      ]
     },
     "execution_count": 18,
     "metadata": {},
     "output_type": "execute_result"
    },
    {
     "data": {
      "image/png": "[encoded data removed]",
      "text/plain": [
       "<Figure size 432x288 with 1 Axes>"
      ]
     },
     "metadata": {},
     "output_type": "display_data"
    }
   ],
   "source": [
    "df['Churn'].value_counts().plot.pie()"
   ]
  },
  {
   "cell_type": "markdown",
   "id": "e38d890c",
   "metadata": {},
   "source": [
    "# 10)  Display a scatter plot between total day calls and total day charges "
   ]
  },
  {
   "cell_type": "code",
   "execution_count": 19,
   "id": "ccd1f3cd",
   "metadata": {},
   "outputs": [
    {
     "data": {
      "text/plain": [
       "<matplotlib.collections.PathCollection at 0x269d9cba610>"
      ]
     },
     "execution_count": 19,
     "metadata": {},
     "output_type": "execute_result"
    },
    {
     "data": {
      "image/png": "[encoded data removed]",
      "text/plain": [
       "<Figure size 432x288 with 1 Axes>"
      ]
     },
     "metadata": {
      "needs_background": "light"
     },
     "output_type": "display_data"
    }
   ],
   "source": [
    "plt.scatter(df['Total day calls'],df['Total day charge'])"
   ]
  },
  {
   "cell_type": "markdown",
   "id": "06195c1f",
   "metadata": {},
   "source": [
    "# 11) Display a scatter plot between total day calls and total night calls "
   ]
  },
  {
   "cell_type": "code",
   "execution_count": 20,
   "id": "78205f0d",
   "metadata": {},
   "outputs": [
    {
     "data": {
      "text/plain": [
       "<matplotlib.collections.PathCollection at 0x269d9db7520>"
      ]
     },
     "execution_count": 20,
     "metadata": {},
     "output_type": "execute_result"
    },
    {
     "data": {
      "image/png": "[encoded data removed]",
      "text/plain": [
       "<Figure size 432x288 with 1 Axes>"
      ]
     },
     "metadata": {
      "needs_background": "light"
     },
     "output_type": "display_data"
    }
   ],
   "source": [
    "plt.scatter(df['Total day calls'],df['Total night calls'])"
   ]
  },
  {
   "cell_type": "markdown",
   "id": "c6210a96",
   "metadata": {},
   "source": [
    "# 12) Display a boxplot of Total day minutes with respect to Churn"
   ]
  },
  {
   "cell_type": "code",
   "execution_count": 21,
   "id": "bfc75e85",
   "metadata": {},
   "outputs": [
    {
     "data": {
      "text/plain": [
       "<AxesSubplot:xlabel='Churn', ylabel='Total day minutes'>"
      ]
     },
     "execution_count": 21,
     "metadata": {},
     "output_type": "execute_result"
    },
    {
     "data": {
      "image/png": "[encoded data removed]",
      "text/plain": [
       "<Figure size 432x288 with 1 Axes>"
      ]
     },
     "metadata": {
      "needs_background": "light"
     },
     "output_type": "display_data"
    }
   ],
   "source": [
    "sns.boxplot(x=\"Churn\",y=\"Total day minutes\",data=df)"
   ]
  },
  {
   "cell_type": "markdown",
   "id": "d65daa11",
   "metadata": {},
   "source": [
    "# 13) Display a boxplot of Total day charge with respect to Churn"
   ]
  },
  {
   "cell_type": "code",
   "execution_count": 22,
   "id": "08df4725",
   "metadata": {},
   "outputs": [
    {
     "data": {
      "text/plain": [
       "<AxesSubplot:xlabel='Churn', ylabel='Total day charge'>"
      ]
     },
     "execution_count": 22,
     "metadata": {},
     "output_type": "execute_result"
    },
    {
     "data": {
      "image/png": "[encoded data removed]",
      "text/plain": [
       "<Figure size 432x288 with 1 Axes>"
      ]
     },
     "metadata": {
      "needs_background": "light"
     },
     "output_type": "display_data"
    }
   ],
   "source": [
    "sns.boxplot(x=\"Churn\",y=\"Total day charge\",data=df)"
   ]
  },
  {
   "cell_type": "markdown",
   "id": "28995d80",
   "metadata": {},
   "source": [
    "# Part-2: Working with models "
   ]
  },
  {
   "cell_type": "markdown",
   "id": "e4d45a6a",
   "metadata": {},
   "source": [
    "# 1)  Perform encoding on churn"
   ]
  },
  {
   "cell_type": "code",
   "execution_count": 23,
   "id": "a3530407",
   "metadata": {},
   "outputs": [],
   "source": [
    "from sklearn.preprocessing import LabelEncoder"
   ]
  },
  {
   "cell_type": "code",
   "execution_count": 24,
   "id": "cb5be7f2",
   "metadata": {},
   "outputs": [],
   "source": [
    "df['Churn']=LabelEncoder().fit_transform(df['Churn'])"
   ]
  },
  {
   "cell_type": "markdown",
   "id": "a7d848b7",
   "metadata": {},
   "source": [
    "# 2)  Perform encoding on International Plan "
   ]
  },
  {
   "cell_type": "code",
   "execution_count": 25,
   "id": "f2f0fde0",
   "metadata": {},
   "outputs": [],
   "source": [
    "df['International plan']=LabelEncoder().fit_transform(df['International plan'])"
   ]
  },
  {
   "cell_type": "markdown",
   "id": "6bab4666",
   "metadata": {},
   "source": [
    "# 3)  Perform encoding on voice mail plan using sklearn  "
   ]
  },
  {
   "cell_type": "code",
   "execution_count": 26,
   "id": "a1321f65",
   "metadata": {},
   "outputs": [],
   "source": [
    "df['Voice mail plan']=LabelEncoder().fit_transform(df['Voice mail plan'])"
   ]
  },
  {
   "cell_type": "code",
   "execution_count": 27,
   "id": "d555ab3e",
   "metadata": {},
   "outputs": [],
   "source": [
    "df['State']=LabelEncoder().fit_transform(df['State'])"
   ]
  },
  {
   "cell_type": "markdown",
   "id": "29b78d72",
   "metadata": {},
   "source": [
    "# 4)  Check the correlation among all the columns  "
   ]
  },
  {
   "cell_type": "code",
   "execution_count": 28,
   "id": "3bdea028",
   "metadata": {},
   "outputs": [
    {
     "data": {
      "text/html": [
       "<div>\n",
       "<style scoped>\n",
       "    .dataframe tbody tr th:only-of-type {\n",
       "        vertical-align: middle;\n",
       "    }\n",
       "\n",
       "    .dataframe tbody tr th {\n",
       "        vertical-align: top;\n",
       "    }\n",
       "\n",
       "    .dataframe thead th {\n",
       "        text-align: right;\n",
       "    }\n",
       "</style>\n",
       "<table border=\"1\" class=\"dataframe\">\n",
       "  <thead>\n",
       "    <tr style=\"text-align: right;\">\n",
       "      <th></th>\n",
       "      <th>State</th>\n",
       "      <th>Account length</th>\n",
       "      <th>Area code</th>\n",
       "      <th>International plan</th>\n",
       "      <th>Voice mail plan</th>\n",
       "      <th>Number vmail messages</th>\n",
       "      <th>Total day minutes</th>\n",
       "      <th>Total day calls</th>\n",
       "      <th>Total day charge</th>\n",
       "      <th>Total eve minutes</th>\n",
       "      <th>Total eve calls</th>\n",
       "      <th>Total eve charge</th>\n",
       "      <th>Total night minutes</th>\n",
       "      <th>Total night calls</th>\n",
       "      <th>Total night charge</th>\n",
       "      <th>Total intl minutes</th>\n",
       "      <th>Total intl calls</th>\n",
       "      <th>Total intl charge</th>\n",
       "      <th>Customer service calls</th>\n",
       "      <th>Churn</th>\n",
       "    </tr>\n",
       "  </thead>\n",
       "  <tbody>\n",
       "    <tr>\n",
       "      <th>State</th>\n",
       "      <td>1.000000</td>\n",
       "      <td>-0.007254</td>\n",
       "      <td>0.014550</td>\n",
       "      <td>-0.003144</td>\n",
       "      <td>-0.018661</td>\n",
       "      <td>-0.011960</td>\n",
       "      <td>-0.004951</td>\n",
       "      <td>0.007068</td>\n",
       "      <td>-0.004951</td>\n",
       "      <td>0.009383</td>\n",
       "      <td>-0.011494</td>\n",
       "      <td>0.009382</td>\n",
       "      <td>0.025277</td>\n",
       "      <td>0.005906</td>\n",
       "      <td>0.025269</td>\n",
       "      <td>-0.011202</td>\n",
       "      <td>0.011980</td>\n",
       "      <td>-0.011191</td>\n",
       "      <td>-0.031970</td>\n",
       "      <td>0.000430</td>\n",
       "    </tr>\n",
       "    <tr>\n",
       "      <th>Account length</th>\n",
       "      <td>-0.007254</td>\n",
       "      <td>1.000000</td>\n",
       "      <td>-0.008620</td>\n",
       "      <td>0.024500</td>\n",
       "      <td>0.002448</td>\n",
       "      <td>-0.002996</td>\n",
       "      <td>0.002847</td>\n",
       "      <td>0.038862</td>\n",
       "      <td>0.002843</td>\n",
       "      <td>-0.015923</td>\n",
       "      <td>0.018552</td>\n",
       "      <td>-0.015909</td>\n",
       "      <td>-0.008994</td>\n",
       "      <td>-0.024007</td>\n",
       "      <td>-0.008999</td>\n",
       "      <td>0.011369</td>\n",
       "      <td>0.017627</td>\n",
       "      <td>0.011383</td>\n",
       "      <td>0.002455</td>\n",
       "      <td>0.017728</td>\n",
       "    </tr>\n",
       "    <tr>\n",
       "      <th>Area code</th>\n",
       "      <td>0.014550</td>\n",
       "      <td>-0.008620</td>\n",
       "      <td>1.000000</td>\n",
       "      <td>0.047099</td>\n",
       "      <td>0.007180</td>\n",
       "      <td>-0.000584</td>\n",
       "      <td>-0.023134</td>\n",
       "      <td>-0.009629</td>\n",
       "      <td>-0.023130</td>\n",
       "      <td>0.000679</td>\n",
       "      <td>-0.018602</td>\n",
       "      <td>0.000707</td>\n",
       "      <td>-0.003353</td>\n",
       "      <td>0.011455</td>\n",
       "      <td>-0.003382</td>\n",
       "      <td>-0.013418</td>\n",
       "      <td>-0.027423</td>\n",
       "      <td>-0.013534</td>\n",
       "      <td>0.034442</td>\n",
       "      <td>0.001019</td>\n",
       "    </tr>\n",
       "    <tr>\n",
       "      <th>International plan</th>\n",
       "      <td>-0.003144</td>\n",
       "      <td>0.024500</td>\n",
       "      <td>0.047099</td>\n",
       "      <td>1.000000</td>\n",
       "      <td>0.002131</td>\n",
       "      <td>0.005858</td>\n",
       "      <td>0.049550</td>\n",
       "      <td>-0.004277</td>\n",
       "      <td>0.049555</td>\n",
       "      <td>0.026616</td>\n",
       "      <td>0.010277</td>\n",
       "      <td>0.026623</td>\n",
       "      <td>-0.010310</td>\n",
       "      <td>0.018081</td>\n",
       "      <td>-0.010316</td>\n",
       "      <td>0.053162</td>\n",
       "      <td>0.011549</td>\n",
       "      <td>0.053037</td>\n",
       "      <td>-0.035955</td>\n",
       "      <td>0.277489</td>\n",
       "    </tr>\n",
       "    <tr>\n",
       "      <th>Voice mail plan</th>\n",
       "      <td>-0.018661</td>\n",
       "      <td>0.002448</td>\n",
       "      <td>0.007180</td>\n",
       "      <td>0.002131</td>\n",
       "      <td>1.000000</td>\n",
       "      <td>0.957159</td>\n",
       "      <td>0.013438</td>\n",
       "      <td>-0.007541</td>\n",
       "      <td>0.013439</td>\n",
       "      <td>0.019132</td>\n",
       "      <td>0.003404</td>\n",
       "      <td>0.019147</td>\n",
       "      <td>0.001065</td>\n",
       "      <td>0.013985</td>\n",
       "      <td>0.001066</td>\n",
       "      <td>-0.013963</td>\n",
       "      <td>0.015196</td>\n",
       "      <td>-0.013931</td>\n",
       "      <td>-0.022054</td>\n",
       "      <td>-0.099291</td>\n",
       "    </tr>\n",
       "    <tr>\n",
       "      <th>Number vmail messages</th>\n",
       "      <td>-0.011960</td>\n",
       "      <td>-0.002996</td>\n",
       "      <td>-0.000584</td>\n",
       "      <td>0.005858</td>\n",
       "      <td>0.957159</td>\n",
       "      <td>1.000000</td>\n",
       "      <td>0.019027</td>\n",
       "      <td>-0.009622</td>\n",
       "      <td>0.019027</td>\n",
       "      <td>0.011401</td>\n",
       "      <td>0.005131</td>\n",
       "      <td>0.011418</td>\n",
       "      <td>-0.000224</td>\n",
       "      <td>0.008124</td>\n",
       "      <td>-0.000229</td>\n",
       "      <td>-0.004156</td>\n",
       "      <td>0.027013</td>\n",
       "      <td>-0.004136</td>\n",
       "      <td>-0.018787</td>\n",
       "      <td>-0.086474</td>\n",
       "    </tr>\n",
       "    <tr>\n",
       "      <th>Total day minutes</th>\n",
       "      <td>-0.004951</td>\n",
       "      <td>0.002847</td>\n",
       "      <td>-0.023134</td>\n",
       "      <td>0.049550</td>\n",
       "      <td>0.013438</td>\n",
       "      <td>0.019027</td>\n",
       "      <td>1.000000</td>\n",
       "      <td>0.016780</td>\n",
       "      <td>1.000000</td>\n",
       "      <td>0.003999</td>\n",
       "      <td>0.009059</td>\n",
       "      <td>0.003992</td>\n",
       "      <td>0.013491</td>\n",
       "      <td>0.015054</td>\n",
       "      <td>0.013464</td>\n",
       "      <td>-0.011042</td>\n",
       "      <td>0.005687</td>\n",
       "      <td>-0.010934</td>\n",
       "      <td>-0.024543</td>\n",
       "      <td>0.195688</td>\n",
       "    </tr>\n",
       "    <tr>\n",
       "      <th>Total day calls</th>\n",
       "      <td>0.007068</td>\n",
       "      <td>0.038862</td>\n",
       "      <td>-0.009629</td>\n",
       "      <td>-0.004277</td>\n",
       "      <td>-0.007541</td>\n",
       "      <td>-0.009622</td>\n",
       "      <td>0.016780</td>\n",
       "      <td>1.000000</td>\n",
       "      <td>0.016787</td>\n",
       "      <td>-0.026003</td>\n",
       "      <td>0.006473</td>\n",
       "      <td>-0.026006</td>\n",
       "      <td>0.008986</td>\n",
       "      <td>-0.016776</td>\n",
       "      <td>0.008972</td>\n",
       "      <td>0.031036</td>\n",
       "      <td>0.006928</td>\n",
       "      <td>0.031133</td>\n",
       "      <td>-0.011945</td>\n",
       "      <td>0.018290</td>\n",
       "    </tr>\n",
       "    <tr>\n",
       "      <th>Total day charge</th>\n",
       "      <td>-0.004951</td>\n",
       "      <td>0.002843</td>\n",
       "      <td>-0.023130</td>\n",
       "      <td>0.049555</td>\n",
       "      <td>0.013439</td>\n",
       "      <td>0.019027</td>\n",
       "      <td>1.000000</td>\n",
       "      <td>0.016787</td>\n",
       "      <td>1.000000</td>\n",
       "      <td>0.004008</td>\n",
       "      <td>0.009056</td>\n",
       "      <td>0.004002</td>\n",
       "      <td>0.013495</td>\n",
       "      <td>0.015057</td>\n",
       "      <td>0.013468</td>\n",
       "      <td>-0.011046</td>\n",
       "      <td>0.005688</td>\n",
       "      <td>-0.010938</td>\n",
       "      <td>-0.024548</td>\n",
       "      <td>0.195689</td>\n",
       "    </tr>\n",
       "    <tr>\n",
       "      <th>Total eve minutes</th>\n",
       "      <td>0.009383</td>\n",
       "      <td>-0.015923</td>\n",
       "      <td>0.000679</td>\n",
       "      <td>0.026616</td>\n",
       "      <td>0.019132</td>\n",
       "      <td>0.011401</td>\n",
       "      <td>0.003999</td>\n",
       "      <td>-0.026003</td>\n",
       "      <td>0.004008</td>\n",
       "      <td>1.000000</td>\n",
       "      <td>-0.007654</td>\n",
       "      <td>1.000000</td>\n",
       "      <td>-0.013414</td>\n",
       "      <td>0.009017</td>\n",
       "      <td>-0.013450</td>\n",
       "      <td>-0.006915</td>\n",
       "      <td>0.002160</td>\n",
       "      <td>-0.006947</td>\n",
       "      <td>-0.013192</td>\n",
       "      <td>0.072906</td>\n",
       "    </tr>\n",
       "    <tr>\n",
       "      <th>Total eve calls</th>\n",
       "      <td>-0.011494</td>\n",
       "      <td>0.018552</td>\n",
       "      <td>-0.018602</td>\n",
       "      <td>0.010277</td>\n",
       "      <td>0.003404</td>\n",
       "      <td>0.005131</td>\n",
       "      <td>0.009059</td>\n",
       "      <td>0.006473</td>\n",
       "      <td>0.009056</td>\n",
       "      <td>-0.007654</td>\n",
       "      <td>1.000000</td>\n",
       "      <td>-0.007642</td>\n",
       "      <td>-0.000175</td>\n",
       "      <td>0.000797</td>\n",
       "      <td>-0.000135</td>\n",
       "      <td>0.011012</td>\n",
       "      <td>0.003710</td>\n",
       "      <td>0.011000</td>\n",
       "      <td>0.001058</td>\n",
       "      <td>-0.001539</td>\n",
       "    </tr>\n",
       "    <tr>\n",
       "      <th>Total eve charge</th>\n",
       "      <td>0.009382</td>\n",
       "      <td>-0.015909</td>\n",
       "      <td>0.000707</td>\n",
       "      <td>0.026623</td>\n",
       "      <td>0.019147</td>\n",
       "      <td>0.011418</td>\n",
       "      <td>0.003992</td>\n",
       "      <td>-0.026006</td>\n",
       "      <td>0.004002</td>\n",
       "      <td>1.000000</td>\n",
       "      <td>-0.007642</td>\n",
       "      <td>1.000000</td>\n",
       "      <td>-0.013428</td>\n",
       "      <td>0.009030</td>\n",
       "      <td>-0.013464</td>\n",
       "      <td>-0.006923</td>\n",
       "      <td>0.002169</td>\n",
       "      <td>-0.006955</td>\n",
       "      <td>-0.013196</td>\n",
       "      <td>0.072893</td>\n",
       "    </tr>\n",
       "    <tr>\n",
       "      <th>Total night minutes</th>\n",
       "      <td>0.025277</td>\n",
       "      <td>-0.008994</td>\n",
       "      <td>-0.003353</td>\n",
       "      <td>-0.010310</td>\n",
       "      <td>0.001065</td>\n",
       "      <td>-0.000224</td>\n",
       "      <td>0.013491</td>\n",
       "      <td>0.008986</td>\n",
       "      <td>0.013495</td>\n",
       "      <td>-0.013414</td>\n",
       "      <td>-0.000175</td>\n",
       "      <td>-0.013428</td>\n",
       "      <td>1.000000</td>\n",
       "      <td>0.012736</td>\n",
       "      <td>0.999999</td>\n",
       "      <td>-0.008607</td>\n",
       "      <td>-0.001110</td>\n",
       "      <td>-0.008510</td>\n",
       "      <td>0.005236</td>\n",
       "      <td>0.033639</td>\n",
       "    </tr>\n",
       "    <tr>\n",
       "      <th>Total night calls</th>\n",
       "      <td>0.005906</td>\n",
       "      <td>-0.024007</td>\n",
       "      <td>0.011455</td>\n",
       "      <td>0.018081</td>\n",
       "      <td>0.013985</td>\n",
       "      <td>0.008124</td>\n",
       "      <td>0.015054</td>\n",
       "      <td>-0.016776</td>\n",
       "      <td>0.015057</td>\n",
       "      <td>0.009017</td>\n",
       "      <td>0.000797</td>\n",
       "      <td>0.009030</td>\n",
       "      <td>0.012736</td>\n",
       "      <td>1.000000</td>\n",
       "      <td>0.012720</td>\n",
       "      <td>-0.023447</td>\n",
       "      <td>0.019367</td>\n",
       "      <td>-0.023434</td>\n",
       "      <td>-0.005677</td>\n",
       "      <td>0.012262</td>\n",
       "    </tr>\n",
       "    <tr>\n",
       "      <th>Total night charge</th>\n",
       "      <td>0.025269</td>\n",
       "      <td>-0.008999</td>\n",
       "      <td>-0.003382</td>\n",
       "      <td>-0.010316</td>\n",
       "      <td>0.001066</td>\n",
       "      <td>-0.000229</td>\n",
       "      <td>0.013464</td>\n",
       "      <td>0.008972</td>\n",
       "      <td>0.013468</td>\n",
       "      <td>-0.013450</td>\n",
       "      <td>-0.000135</td>\n",
       "      <td>-0.013464</td>\n",
       "      <td>0.999999</td>\n",
       "      <td>0.012720</td>\n",
       "      <td>1.000000</td>\n",
       "      <td>-0.008615</td>\n",
       "      <td>-0.001099</td>\n",
       "      <td>-0.008517</td>\n",
       "      <td>0.005257</td>\n",
       "      <td>0.033635</td>\n",
       "    </tr>\n",
       "    <tr>\n",
       "      <th>Total intl minutes</th>\n",
       "      <td>-0.011202</td>\n",
       "      <td>0.011369</td>\n",
       "      <td>-0.013418</td>\n",
       "      <td>0.053162</td>\n",
       "      <td>-0.013963</td>\n",
       "      <td>-0.004156</td>\n",
       "      <td>-0.011042</td>\n",
       "      <td>0.031036</td>\n",
       "      <td>-0.011046</td>\n",
       "      <td>-0.006915</td>\n",
       "      <td>0.011012</td>\n",
       "      <td>-0.006923</td>\n",
       "      <td>-0.008607</td>\n",
       "      <td>-0.023447</td>\n",
       "      <td>-0.008615</td>\n",
       "      <td>1.000000</td>\n",
       "      <td>0.037315</td>\n",
       "      <td>0.999993</td>\n",
       "      <td>-0.002826</td>\n",
       "      <td>0.086204</td>\n",
       "    </tr>\n",
       "    <tr>\n",
       "      <th>Total intl calls</th>\n",
       "      <td>0.011980</td>\n",
       "      <td>0.017627</td>\n",
       "      <td>-0.027423</td>\n",
       "      <td>0.011549</td>\n",
       "      <td>0.015196</td>\n",
       "      <td>0.027013</td>\n",
       "      <td>0.005687</td>\n",
       "      <td>0.006928</td>\n",
       "      <td>0.005688</td>\n",
       "      <td>0.002160</td>\n",
       "      <td>0.003710</td>\n",
       "      <td>0.002169</td>\n",
       "      <td>-0.001110</td>\n",
       "      <td>0.019367</td>\n",
       "      <td>-0.001099</td>\n",
       "      <td>0.037315</td>\n",
       "      <td>1.000000</td>\n",
       "      <td>0.037363</td>\n",
       "      <td>-0.022143</td>\n",
       "      <td>-0.069882</td>\n",
       "    </tr>\n",
       "    <tr>\n",
       "      <th>Total intl charge</th>\n",
       "      <td>-0.011191</td>\n",
       "      <td>0.011383</td>\n",
       "      <td>-0.013534</td>\n",
       "      <td>0.053037</td>\n",
       "      <td>-0.013931</td>\n",
       "      <td>-0.004136</td>\n",
       "      <td>-0.010934</td>\n",
       "      <td>0.031133</td>\n",
       "      <td>-0.010938</td>\n",
       "      <td>-0.006947</td>\n",
       "      <td>0.011000</td>\n",
       "      <td>-0.006955</td>\n",
       "      <td>-0.008510</td>\n",
       "      <td>-0.023434</td>\n",
       "      <td>-0.008517</td>\n",
       "      <td>0.999993</td>\n",
       "      <td>0.037363</td>\n",
       "      <td>1.000000</td>\n",
       "      <td>-0.002895</td>\n",
       "      <td>0.086216</td>\n",
       "    </tr>\n",
       "    <tr>\n",
       "      <th>Customer service calls</th>\n",
       "      <td>-0.031970</td>\n",
       "      <td>0.002455</td>\n",
       "      <td>0.034442</td>\n",
       "      <td>-0.035955</td>\n",
       "      <td>-0.022054</td>\n",
       "      <td>-0.018787</td>\n",
       "      <td>-0.024543</td>\n",
       "      <td>-0.011945</td>\n",
       "      <td>-0.024548</td>\n",
       "      <td>-0.013192</td>\n",
       "      <td>0.001058</td>\n",
       "      <td>-0.013196</td>\n",
       "      <td>0.005236</td>\n",
       "      <td>-0.005677</td>\n",
       "      <td>0.005257</td>\n",
       "      <td>-0.002826</td>\n",
       "      <td>-0.022143</td>\n",
       "      <td>-0.002895</td>\n",
       "      <td>1.000000</td>\n",
       "      <td>0.202590</td>\n",
       "    </tr>\n",
       "    <tr>\n",
       "      <th>Churn</th>\n",
       "      <td>0.000430</td>\n",
       "      <td>0.017728</td>\n",
       "      <td>0.001019</td>\n",
       "      <td>0.277489</td>\n",
       "      <td>-0.099291</td>\n",
       "      <td>-0.086474</td>\n",
       "      <td>0.195688</td>\n",
       "      <td>0.018290</td>\n",
       "      <td>0.195689</td>\n",
       "      <td>0.072906</td>\n",
       "      <td>-0.001539</td>\n",
       "      <td>0.072893</td>\n",
       "      <td>0.033639</td>\n",
       "      <td>0.012262</td>\n",
       "      <td>0.033635</td>\n",
       "      <td>0.086204</td>\n",
       "      <td>-0.069882</td>\n",
       "      <td>0.086216</td>\n",
       "      <td>0.202590</td>\n",
       "      <td>1.000000</td>\n",
       "    </tr>\n",
       "  </tbody>\n",
       "</table>\n",
       "</div>"
      ],
      "text/plain": [
       "                           State  Account length  Area code  \\\n",
       "State                   1.000000       -0.007254   0.014550   \n",
       "Account length         -0.007254        1.000000  -0.008620   \n",
       "Area code               0.014550       -0.008620   1.000000   \n",
       "International plan     -0.003144        0.024500   0.047099   \n",
       "Voice mail plan        -0.018661        0.002448   0.007180   \n",
       "Number vmail messages  -0.011960       -0.002996  -0.000584   \n",
       "Total day minutes      -0.004951        0.002847  -0.023134   \n",
       "Total day calls         0.007068        0.038862  -0.009629   \n",
       "Total day charge       -0.004951        0.002843  -0.023130   \n",
       "Total eve minutes       0.009383       -0.015923   0.000679   \n",
       "Total eve calls        -0.011494        0.018552  -0.018602   \n",
       "Total eve charge        0.009382       -0.015909   0.000707   \n",
       "Total night minutes     0.025277       -0.008994  -0.003353   \n",
       "Total night calls       0.005906       -0.024007   0.011455   \n",
       "Total night charge      0.025269       -0.008999  -0.003382   \n",
       "Total intl minutes     -0.011202        0.011369  -0.013418   \n",
       "Total intl calls        0.011980        0.017627  -0.027423   \n",
       "Total intl charge      -0.011191        0.011383  -0.013534   \n",
       "Customer service calls -0.031970        0.002455   0.034442   \n",
       "Churn                   0.000430        0.017728   0.001019   \n",
       "\n",
       "                        International plan  Voice mail plan  \\\n",
       "State                            -0.003144        -0.018661   \n",
       "Account length                    0.024500         0.002448   \n",
       "Area code                         0.047099         0.007180   \n",
       "International plan                1.000000         0.002131   \n",
       "Voice mail plan                   0.002131         1.000000   \n",
       "Number vmail messages             0.005858         0.957159   \n",
       "Total day minutes                 0.049550         0.013438   \n",
       "Total day calls                  -0.004277        -0.007541   \n",
       "Total day charge                  0.049555         0.013439   \n",
       "Total eve minutes                 0.026616         0.019132   \n",
       "Total eve calls                   0.010277         0.003404   \n",
       "Total eve charge                  0.026623         0.019147   \n",
       "Total night minutes              -0.010310         0.001065   \n",
       "Total night calls                 0.018081         0.013985   \n",
       "Total night charge               -0.010316         0.001066   \n",
       "Total intl minutes                0.053162        -0.013963   \n",
       "Total intl calls                  0.011549         0.015196   \n",
       "Total intl charge                 0.053037        -0.013931   \n",
       "Customer service calls           -0.035955        -0.022054   \n",
       "Churn                             0.277489        -0.099291   \n",
       "\n",
       "                        Number vmail messages  Total day minutes  \\\n",
       "State                               -0.011960          -0.004951   \n",
       "Account length                      -0.002996           0.002847   \n",
       "Area code                           -0.000584          -0.023134   \n",
       "International plan                   0.005858           0.049550   \n",
       "Voice mail plan                      0.957159           0.013438   \n",
       "Number vmail messages                1.000000           0.019027   \n",
       "Total day minutes                    0.019027           1.000000   \n",
       "Total day calls                     -0.009622           0.016780   \n",
       "Total day charge                     0.019027           1.000000   \n",
       "Total eve minutes                    0.011401           0.003999   \n",
       "Total eve calls                      0.005131           0.009059   \n",
       "Total eve charge                     0.011418           0.003992   \n",
       "Total night minutes                 -0.000224           0.013491   \n",
       "Total night calls                    0.008124           0.015054   \n",
       "Total night charge                  -0.000229           0.013464   \n",
       "Total intl minutes                  -0.004156          -0.011042   \n",
       "Total intl calls                     0.027013           0.005687   \n",
       "Total intl charge                   -0.004136          -0.010934   \n",
       "Customer service calls              -0.018787          -0.024543   \n",
       "Churn                               -0.086474           0.195688   \n",
       "\n",
       "                        Total day calls  Total day charge  Total eve minutes  \\\n",
       "State                          0.007068         -0.004951           0.009383   \n",
       "Account length                 0.038862          0.002843          -0.015923   \n",
       "Area code                     -0.009629         -0.023130           0.000679   \n",
       "International plan            -0.004277          0.049555           0.026616   \n",
       "Voice mail plan               -0.007541          0.013439           0.019132   \n",
       "Number vmail messages         -0.009622          0.019027           0.011401   \n",
       "Total day minutes              0.016780          1.000000           0.003999   \n",
       "Total day calls                1.000000          0.016787          -0.026003   \n",
       "Total day charge               0.016787          1.000000           0.004008   \n",
       "Total eve minutes             -0.026003          0.004008           1.000000   \n",
       "Total eve calls                0.006473          0.009056          -0.007654   \n",
       "Total eve charge              -0.026006          0.004002           1.000000   \n",
       "Total night minutes            0.008986          0.013495          -0.013414   \n",
       "Total night calls             -0.016776          0.015057           0.009017   \n",
       "Total night charge             0.008972          0.013468          -0.013450   \n",
       "Total intl minutes             0.031036         -0.011046          -0.006915   \n",
       "Total intl calls               0.006928          0.005688           0.002160   \n",
       "Total intl charge              0.031133         -0.010938          -0.006947   \n",
       "Customer service calls        -0.011945         -0.024548          -0.013192   \n",
       "Churn                          0.018290          0.195689           0.072906   \n",
       "\n",
       "                        Total eve calls  Total eve charge  \\\n",
       "State                         -0.011494          0.009382   \n",
       "Account length                 0.018552         -0.015909   \n",
       "Area code                     -0.018602          0.000707   \n",
       "International plan             0.010277          0.026623   \n",
       "Voice mail plan                0.003404          0.019147   \n",
       "Number vmail messages          0.005131          0.011418   \n",
       "Total day minutes              0.009059          0.003992   \n",
       "Total day calls                0.006473         -0.026006   \n",
       "Total day charge               0.009056          0.004002   \n",
       "Total eve minutes             -0.007654          1.000000   \n",
       "Total eve calls                1.000000         -0.007642   \n",
       "Total eve charge              -0.007642          1.000000   \n",
       "Total night minutes           -0.000175         -0.013428   \n",
       "Total night calls              0.000797          0.009030   \n",
       "Total night charge            -0.000135         -0.013464   \n",
       "Total intl minutes             0.011012         -0.006923   \n",
       "Total intl calls               0.003710          0.002169   \n",
       "Total intl charge              0.011000         -0.006955   \n",
       "Customer service calls         0.001058         -0.013196   \n",
       "Churn                         -0.001539          0.072893   \n",
       "\n",
       "                        Total night minutes  Total night calls  \\\n",
       "State                              0.025277           0.005906   \n",
       "Account length                    -0.008994          -0.024007   \n",
       "Area code                         -0.003353           0.011455   \n",
       "International plan                -0.010310           0.018081   \n",
       "Voice mail plan                    0.001065           0.013985   \n",
       "Number vmail messages             -0.000224           0.008124   \n",
       "Total day minutes                  0.013491           0.015054   \n",
       "Total day calls                    0.008986          -0.016776   \n",
       "Total day charge                   0.013495           0.015057   \n",
       "Total eve minutes                 -0.013414           0.009017   \n",
       "Total eve calls                   -0.000175           0.000797   \n",
       "Total eve charge                  -0.013428           0.009030   \n",
       "Total night minutes                1.000000           0.012736   \n",
       "Total night calls                  0.012736           1.000000   \n",
       "Total night charge                 0.999999           0.012720   \n",
       "Total intl minutes                -0.008607          -0.023447   \n",
       "Total intl calls                  -0.001110           0.019367   \n",
       "Total intl charge                 -0.008510          -0.023434   \n",
       "Customer service calls             0.005236          -0.005677   \n",
       "Churn                              0.033639           0.012262   \n",
       "\n",
       "                        Total night charge  Total intl minutes  \\\n",
       "State                             0.025269           -0.011202   \n",
       "Account length                   -0.008999            0.011369   \n",
       "Area code                        -0.003382           -0.013418   \n",
       "International plan               -0.010316            0.053162   \n",
       "Voice mail plan                   0.001066           -0.013963   \n",
       "Number vmail messages            -0.000229           -0.004156   \n",
       "Total day minutes                 0.013464           -0.011042   \n",
       "Total day calls                   0.008972            0.031036   \n",
       "Total day charge                  0.013468           -0.011046   \n",
       "Total eve minutes                -0.013450           -0.006915   \n",
       "Total eve calls                  -0.000135            0.011012   \n",
       "Total eve charge                 -0.013464           -0.006923   \n",
       "Total night minutes               0.999999           -0.008607   \n",
       "Total night calls                 0.012720           -0.023447   \n",
       "Total night charge                1.000000           -0.008615   \n",
       "Total intl minutes               -0.008615            1.000000   \n",
       "Total intl calls                 -0.001099            0.037315   \n",
       "Total intl charge                -0.008517            0.999993   \n",
       "Customer service calls            0.005257           -0.002826   \n",
       "Churn                             0.033635            0.086204   \n",
       "\n",
       "                        Total intl calls  Total intl charge  \\\n",
       "State                           0.011980          -0.011191   \n",
       "Account length                  0.017627           0.011383   \n",
       "Area code                      -0.027423          -0.013534   \n",
       "International plan              0.011549           0.053037   \n",
       "Voice mail plan                 0.015196          -0.013931   \n",
       "Number vmail messages           0.027013          -0.004136   \n",
       "Total day minutes               0.005687          -0.010934   \n",
       "Total day calls                 0.006928           0.031133   \n",
       "Total day charge                0.005688          -0.010938   \n",
       "Total eve minutes               0.002160          -0.006947   \n",
       "Total eve calls                 0.003710           0.011000   \n",
       "Total eve charge                0.002169          -0.006955   \n",
       "Total night minutes            -0.001110          -0.008510   \n",
       "Total night calls               0.019367          -0.023434   \n",
       "Total night charge             -0.001099          -0.008517   \n",
       "Total intl minutes              0.037315           0.999993   \n",
       "Total intl calls                1.000000           0.037363   \n",
       "Total intl charge               0.037363           1.000000   \n",
       "Customer service calls         -0.022143          -0.002895   \n",
       "Churn                          -0.069882           0.086216   \n",
       "\n",
       "                        Customer service calls     Churn  \n",
       "State                                -0.031970  0.000430  \n",
       "Account length                        0.002455  0.017728  \n",
       "Area code                             0.034442  0.001019  \n",
       "International plan                   -0.035955  0.277489  \n",
       "Voice mail plan                      -0.022054 -0.099291  \n",
       "Number vmail messages                -0.018787 -0.086474  \n",
       "Total day minutes                    -0.024543  0.195688  \n",
       "Total day calls                      -0.011945  0.018290  \n",
       "Total day charge                     -0.024548  0.195689  \n",
       "Total eve minutes                    -0.013192  0.072906  \n",
       "Total eve calls                       0.001058 -0.001539  \n",
       "Total eve charge                     -0.013196  0.072893  \n",
       "Total night minutes                   0.005236  0.033639  \n",
       "Total night calls                    -0.005677  0.012262  \n",
       "Total night charge                    0.005257  0.033635  \n",
       "Total intl minutes                   -0.002826  0.086204  \n",
       "Total intl calls                     -0.022143 -0.069882  \n",
       "Total intl charge                    -0.002895  0.086216  \n",
       "Customer service calls                1.000000  0.202590  \n",
       "Churn                                 0.202590  1.000000  "
      ]
     },
     "execution_count": 28,
     "metadata": {},
     "output_type": "execute_result"
    }
   ],
   "source": [
    "df.corr()"
   ]
  },
  {
   "cell_type": "code",
   "execution_count": 29,
   "id": "a743b9ff",
   "metadata": {},
   "outputs": [],
   "source": [
    "x= df.drop(['Churn','International plan','Voice mail plan','State'],axis=1)\n",
    "y=df['Churn']"
   ]
  },
  {
   "cell_type": "code",
   "execution_count": 30,
   "id": "ad554e72",
   "metadata": {},
   "outputs": [],
   "source": [
    "from sklearn.model_selection import train_test_split\n",
    "\n",
    "x_train, x_test, y_train, y_test = train_test_split(x, y, test_size = 0.3,random_state =10)"
   ]
  },
  {
   "cell_type": "code",
   "execution_count": 31,
   "id": "663e0804",
   "metadata": {},
   "outputs": [
    {
     "data": {
      "text/plain": [
       "(800, 16)"
      ]
     },
     "execution_count": 31,
     "metadata": {},
     "output_type": "execute_result"
    }
   ],
   "source": [
    "x_test.shape"
   ]
  },
  {
   "cell_type": "code",
   "execution_count": 32,
   "id": "2275a353",
   "metadata": {},
   "outputs": [
    {
     "data": {
      "text/plain": [
       "(1866, 16)"
      ]
     },
     "execution_count": 32,
     "metadata": {},
     "output_type": "execute_result"
    }
   ],
   "source": [
    "x_train.shape"
   ]
  },
  {
   "cell_type": "code",
   "execution_count": 33,
   "id": "fb8d13cc",
   "metadata": {},
   "outputs": [],
   "source": [
    "from sklearn.svm import SVC\n",
    "from sklearn.metrics import accuracy_score"
   ]
  },
  {
   "cell_type": "code",
   "execution_count": 34,
   "id": "5295b655",
   "metadata": {},
   "outputs": [
    {
     "data": {
      "text/plain": [
       "SVC()"
      ]
     },
     "execution_count": 34,
     "metadata": {},
     "output_type": "execute_result"
    }
   ],
   "source": [
    "svc=SVC() \n",
    "svc.fit(x_train,y_train)"
   ]
  },
  {
   "cell_type": "code",
   "execution_count": 35,
   "id": "55623d3d",
   "metadata": {},
   "outputs": [
    {
     "name": "stdout",
     "output_type": "stream",
     "text": [
      "Model accuracy score  without scaling  0.8475\n"
     ]
    }
   ],
   "source": [
    "y_pred=svc.predict(x_test)\n",
    "print('Model accuracy score  without scaling  {0:0.4f}'. format(accuracy_score(y_test, y_pred)))"
   ]
  },
  {
   "cell_type": "code",
   "execution_count": 36,
   "id": "2f91e85c",
   "metadata": {},
   "outputs": [],
   "source": [
    "col = x_train.columns"
   ]
  },
  {
   "cell_type": "code",
   "execution_count": 37,
   "id": "1f0ccb8d",
   "metadata": {},
   "outputs": [],
   "source": [
    "from sklearn.preprocessing import StandardScaler\n",
    "scaler = StandardScaler()\n",
    "x_train = scaler.fit_transform(x_train)\n",
    "x_test = scaler.transform(x_test)"
   ]
  },
  {
   "cell_type": "code",
   "execution_count": 38,
   "id": "2a571e98",
   "metadata": {},
   "outputs": [
    {
     "data": {
      "text/html": [
       "<div>\n",
       "<style scoped>\n",
       "    .dataframe tbody tr th:only-of-type {\n",
       "        vertical-align: middle;\n",
       "    }\n",
       "\n",
       "    .dataframe tbody tr th {\n",
       "        vertical-align: top;\n",
       "    }\n",
       "\n",
       "    .dataframe thead tr th {\n",
       "        text-align: left;\n",
       "    }\n",
       "</style>\n",
       "<table border=\"1\" class=\"dataframe\">\n",
       "  <thead>\n",
       "    <tr>\n",
       "      <th></th>\n",
       "      <th>Account length</th>\n",
       "      <th>Area code</th>\n",
       "      <th>Number vmail messages</th>\n",
       "      <th>Total day minutes</th>\n",
       "      <th>Total day calls</th>\n",
       "      <th>Total day charge</th>\n",
       "      <th>Total eve minutes</th>\n",
       "      <th>Total eve calls</th>\n",
       "      <th>Total eve charge</th>\n",
       "      <th>Total night minutes</th>\n",
       "      <th>Total night calls</th>\n",
       "      <th>Total night charge</th>\n",
       "      <th>Total intl minutes</th>\n",
       "      <th>Total intl calls</th>\n",
       "      <th>Total intl charge</th>\n",
       "      <th>Customer service calls</th>\n",
       "    </tr>\n",
       "  </thead>\n",
       "  <tbody>\n",
       "    <tr>\n",
       "      <th>0</th>\n",
       "      <td>0.530585</td>\n",
       "      <td>-0.677211</td>\n",
       "      <td>-0.585290</td>\n",
       "      <td>-0.146377</td>\n",
       "      <td>-0.288947</td>\n",
       "      <td>-0.145896</td>\n",
       "      <td>-0.540845</td>\n",
       "      <td>0.469958</td>\n",
       "      <td>-0.541908</td>\n",
       "      <td>0.948985</td>\n",
       "      <td>-1.294431</td>\n",
       "      <td>0.950266</td>\n",
       "      <td>0.364786</td>\n",
       "      <td>-1.036518</td>\n",
       "      <td>0.362826</td>\n",
       "      <td>-0.420404</td>\n",
       "    </tr>\n",
       "    <tr>\n",
       "      <th>1</th>\n",
       "      <td>-0.044616</td>\n",
       "      <td>-0.510169</td>\n",
       "      <td>2.502997</td>\n",
       "      <td>0.684765</td>\n",
       "      <td>1.251127</td>\n",
       "      <td>0.684714</td>\n",
       "      <td>0.590475</td>\n",
       "      <td>0.219504</td>\n",
       "      <td>0.591443</td>\n",
       "      <td>0.297403</td>\n",
       "      <td>-0.006433</td>\n",
       "      <td>0.298458</td>\n",
       "      <td>-0.356208</td>\n",
       "      <td>-0.208723</td>\n",
       "      <td>-0.358189</td>\n",
       "      <td>0.336080</td>\n",
       "    </tr>\n",
       "    <tr>\n",
       "      <th>2</th>\n",
       "      <td>-1.145002</td>\n",
       "      <td>-0.510169</td>\n",
       "      <td>1.473568</td>\n",
       "      <td>-1.337376</td>\n",
       "      <td>-0.885105</td>\n",
       "      <td>-1.337546</td>\n",
       "      <td>-0.083297</td>\n",
       "      <td>0.469958</td>\n",
       "      <td>-0.083117</td>\n",
       "      <td>-0.253784</td>\n",
       "      <td>-0.470112</td>\n",
       "      <td>-0.252734</td>\n",
       "      <td>-0.608556</td>\n",
       "      <td>0.619072</td>\n",
       "      <td>-0.611880</td>\n",
       "      <td>0.336080</td>\n",
       "    </tr>\n",
       "    <tr>\n",
       "      <th>3</th>\n",
       "      <td>-1.445108</td>\n",
       "      <td>1.756836</td>\n",
       "      <td>-0.585290</td>\n",
       "      <td>-0.347312</td>\n",
       "      <td>-0.040548</td>\n",
       "      <td>-0.346832</td>\n",
       "      <td>-1.583359</td>\n",
       "      <td>2.473595</td>\n",
       "      <td>-1.584410</td>\n",
       "      <td>-0.521503</td>\n",
       "      <td>1.333085</td>\n",
       "      <td>-0.519582</td>\n",
       "      <td>-1.257450</td>\n",
       "      <td>-0.622621</td>\n",
       "      <td>-1.252782</td>\n",
       "      <td>0.336080</td>\n",
       "    </tr>\n",
       "    <tr>\n",
       "      <th>4</th>\n",
       "      <td>0.380533</td>\n",
       "      <td>-0.677211</td>\n",
       "      <td>-0.585290</td>\n",
       "      <td>-2.327439</td>\n",
       "      <td>0.307211</td>\n",
       "      <td>-2.327186</td>\n",
       "      <td>0.132928</td>\n",
       "      <td>1.872504</td>\n",
       "      <td>0.132651</td>\n",
       "      <td>-0.047088</td>\n",
       "      <td>-0.418592</td>\n",
       "      <td>-0.047131</td>\n",
       "      <td>0.725282</td>\n",
       "      <td>-0.622621</td>\n",
       "      <td>0.723333</td>\n",
       "      <td>-0.420404</td>\n",
       "    </tr>\n",
       "  </tbody>\n",
       "</table>\n",
       "</div>"
      ],
      "text/plain": [
       "  Account length Area code Number vmail messages Total day minutes  \\\n",
       "0       0.530585 -0.677211             -0.585290         -0.146377   \n",
       "1      -0.044616 -0.510169              2.502997          0.684765   \n",
       "2      -1.145002 -0.510169              1.473568         -1.337376   \n",
       "3      -1.445108  1.756836             -0.585290         -0.347312   \n",
       "4       0.380533 -0.677211             -0.585290         -2.327439   \n",
       "\n",
       "  Total day calls Total day charge Total eve minutes Total eve calls  \\\n",
       "0       -0.288947        -0.145896         -0.540845        0.469958   \n",
       "1        1.251127         0.684714          0.590475        0.219504   \n",
       "2       -0.885105        -1.337546         -0.083297        0.469958   \n",
       "3       -0.040548        -0.346832         -1.583359        2.473595   \n",
       "4        0.307211        -2.327186          0.132928        1.872504   \n",
       "\n",
       "  Total eve charge Total night minutes Total night calls Total night charge  \\\n",
       "0        -0.541908            0.948985         -1.294431           0.950266   \n",
       "1         0.591443            0.297403         -0.006433           0.298458   \n",
       "2        -0.083117           -0.253784         -0.470112          -0.252734   \n",
       "3        -1.584410           -0.521503          1.333085          -0.519582   \n",
       "4         0.132651           -0.047088         -0.418592          -0.047131   \n",
       "\n",
       "  Total intl minutes Total intl calls Total intl charge Customer service calls  \n",
       "0           0.364786        -1.036518          0.362826              -0.420404  \n",
       "1          -0.356208        -0.208723         -0.358189               0.336080  \n",
       "2          -0.608556         0.619072         -0.611880               0.336080  \n",
       "3          -1.257450        -0.622621         -1.252782               0.336080  \n",
       "4           0.725282        -0.622621          0.723333              -0.420404  "
      ]
     },
     "execution_count": 38,
     "metadata": {},
     "output_type": "execute_result"
    }
   ],
   "source": [
    "x_train = pd.DataFrame(x_train, columns=[col])\n",
    "x_test = pd.DataFrame(x_test, columns=[col])\n",
    "x_train.head()"
   ]
  },
  {
   "cell_type": "code",
   "execution_count": 39,
   "id": "c3a0ee81",
   "metadata": {},
   "outputs": [],
   "source": [
    "from sklearn.svm import SVC\n",
    "from sklearn.metrics import accuracy_score"
   ]
  },
  {
   "cell_type": "code",
   "execution_count": 40,
   "id": "929912a8",
   "metadata": {},
   "outputs": [
    {
     "data": {
      "text/plain": [
       "SVC()"
      ]
     },
     "execution_count": 40,
     "metadata": {},
     "output_type": "execute_result"
    }
   ],
   "source": [
    "svc=SVC() \n",
    "svc.fit(x_train,y_train)"
   ]
  },
  {
   "cell_type": "code",
   "execution_count": 41,
   "id": "861ae0ce",
   "metadata": {},
   "outputs": [
    {
     "name": "stdout",
     "output_type": "stream",
     "text": [
      "Model accuracy score rbf  0.8950\n"
     ]
    }
   ],
   "source": [
    "y_pred=svc.predict(x_test)\n",
    "\n",
    "print('Model accuracy score rbf  {0:0.4f}'. format(accuracy_score(y_test, y_pred)))"
   ]
  },
  {
   "cell_type": "code",
   "execution_count": 42,
   "id": "29ba3a56",
   "metadata": {},
   "outputs": [
    {
     "name": "stdout",
     "output_type": "stream",
     "text": [
      "Model accuracy score with rbf and c= 100  : 0.8562\n"
     ]
    }
   ],
   "source": [
    "svc_1=SVC(C=100) \n",
    "\n",
    "\n",
    "# fit classifier to training set\n",
    "svc_1.fit(x_train,y_train)\n",
    "\n",
    "\n",
    "# make predictions on test set\n",
    "y_pred_rbf=svc_1.predict(x_test)\n",
    "\n",
    "\n",
    "# compute and print accuracy score\n",
    "print('Model accuracy score with rbf and c= 100  : {0:0.4f}'. format(accuracy_score(y_test, y_pred_rbf)))\n"
   ]
  },
  {
   "cell_type": "code",
   "execution_count": 43,
   "id": "409936ba",
   "metadata": {},
   "outputs": [
    {
     "name": "stdout",
     "output_type": "stream",
     "text": [
      "Model accuracy score with linear kernel : 0.8475\n",
      "Model accuracy score with polynomial kernel : 0.8838\n"
     ]
    }
   ],
   "source": [
    "linear_svc=SVC(kernel='linear', C=1.0) \n",
    "\n",
    "\n",
    "# fit classifier to training set\n",
    "linear_svc.fit(x_train,y_train)\n",
    "\n",
    "\n",
    "# make predictions on test set\n",
    "y_pred_lin=linear_svc.predict(x_test)\n",
    "\n",
    "\n",
    "# compute and print accuracy score\n",
    "print('Model accuracy score with linear kernel : {0:0.4f}'. format(accuracy_score(y_test, y_pred_lin)))\n",
    "\n",
    "poly_svc=SVC(kernel='poly', C=1.0) \n",
    "\n",
    "\n",
    "# fit classifier to training set\n",
    "poly_svc.fit(x_train,y_train)\n",
    "\n",
    "\n",
    "# make predictions on test set\n",
    "y_pred_poly = poly_svc.predict(x_test)\n",
    "\n",
    "\n",
    "# compute and print accuracy score\n",
    "print('Model accuracy score with polynomial kernel : {0:0.4f}'. format(accuracy_score(y_test, y_pred_poly)))"
   ]
  },
  {
   "cell_type": "code",
   "execution_count": 44,
   "id": "596b6b85",
   "metadata": {},
   "outputs": [
    {
     "name": "stdout",
     "output_type": "stream",
     "text": [
      "Training set score: 0.9153\n",
      "Test set score: 0.8950\n"
     ]
    }
   ],
   "source": [
    "print('Training set score: {:.4f}'.format(svc.score(x_train, y_train)))\n",
    "\n",
    "print('Test set score: {:.4f}'.format(svc.score(x_test, y_test)))\n"
   ]
  },
  {
   "cell_type": "code",
   "execution_count": 45,
   "id": "7cdf3356",
   "metadata": {},
   "outputs": [
    {
     "data": {
      "text/plain": [
       "array([[675,   3],\n",
       "       [ 81,  41]], dtype=int64)"
      ]
     },
     "execution_count": 45,
     "metadata": {},
     "output_type": "execute_result"
    }
   ],
   "source": [
    "from sklearn.metrics import confusion_matrix\n",
    "\n",
    "cm = confusion_matrix(y_test, y_pred)\n",
    "cm"
   ]
  },
  {
   "cell_type": "code",
   "execution_count": 111,
   "id": "3487336a",
   "metadata": {},
   "outputs": [
    {
     "data": {
      "text/plain": [
       "<sklearn.metrics._plot.confusion_matrix.ConfusionMatrixDisplay at 0x269dc211e80>"
      ]
     },
     "execution_count": 111,
     "metadata": {},
     "output_type": "execute_result"
    },
    {
     "data": {
      "image/png": "[encoded data removed]",
      "text/plain": [
       "<Figure size 432x288 with 2 Axes>"
      ]
     },
     "metadata": {
      "needs_background": "light"
     },
     "output_type": "display_data"
    }
   ],
   "source": [
    "from sklearn.metrics import plot_confusion_matrix\n",
    "plot_confusion_matrix(poly_svc,x_test,y_test, cmap='YlGnBu')"
   ]
  },
  {
   "cell_type": "code",
   "execution_count": 47,
   "id": "2befb707",
   "metadata": {},
   "outputs": [
    {
     "name": "stdout",
     "output_type": "stream",
     "text": [
      "              precision    recall  f1-score   support\n",
      "\n",
      "           0       0.89      1.00      0.94       678\n",
      "           1       0.93      0.34      0.49       122\n",
      "\n",
      "    accuracy                           0.90       800\n",
      "   macro avg       0.91      0.67      0.72       800\n",
      "weighted avg       0.90      0.90      0.87       800\n",
      "\n"
     ]
    }
   ],
   "source": [
    "from sklearn.metrics import classification_report\n",
    "\n",
    "print(classification_report(y_test, y_pred))"
   ]
  },
  {
   "cell_type": "code",
   "execution_count": 48,
   "id": "fa511b6a",
   "metadata": {},
   "outputs": [
    {
     "name": "stderr",
     "output_type": "stream",
     "text": [
      "C:\\Users\\Foram Mehta\\anaconda3\\lib\\site-packages\\sklearn\\utils\\validation.py:70: FutureWarning: Pass k=10 as keyword args. From version 1.0 (renaming of 0.25) passing these as positional arguments will result in an error\n",
      "  warnings.warn(f\"Pass {args_msg} as keyword args. From version \"\n"
     ]
    },
    {
     "data": {
      "text/plain": [
       "SelectKBest(score_func=<function chi2 at 0x00000269DB678E50>)"
      ]
     },
     "execution_count": 48,
     "metadata": {},
     "output_type": "execute_result"
    }
   ],
   "source": [
    "from sklearn.feature_selection import SelectKBest,chi2\n",
    "best=SelectKBest(chi2,10) \n",
    "best.fit(x,y)"
   ]
  },
  {
   "cell_type": "code",
   "execution_count": 49,
   "id": "5885acba",
   "metadata": {},
   "outputs": [
    {
     "data": {
      "text/plain": [
       "array([1.30296322e+01, 1.14346986e-02, 4.60322168e+02, 1.67097410e+03,\n",
       "       3.55091746e+00, 2.84061945e+02, 1.83515789e+02, 2.56571833e-02,\n",
       "       1.55929474e+01, 3.86558972e+01, 1.50933395e+00, 1.73912482e+00,\n",
       "       1.50407762e+01, 1.75751169e+01, 4.06099326e+00, 1.20347409e+02])"
      ]
     },
     "execution_count": 49,
     "metadata": {},
     "output_type": "execute_result"
    }
   ],
   "source": [
    "best.scores_"
   ]
  },
  {
   "cell_type": "code",
   "execution_count": 50,
   "id": "25834bf7",
   "metadata": {},
   "outputs": [],
   "source": [
    "score=pd.DataFrame({'Score':best.scores_},index=x.columns)"
   ]
  },
  {
   "cell_type": "code",
   "execution_count": 51,
   "id": "ea6a6860",
   "metadata": {},
   "outputs": [
    {
     "data": {
      "text/plain": [
       "<AxesSubplot:>"
      ]
     },
     "execution_count": 51,
     "metadata": {},
     "output_type": "execute_result"
    },
    {
     "data": {
      "image/png": "[encoded data removed]",
      "text/plain": [
       "<Figure size 432x288 with 1 Axes>"
      ]
     },
     "metadata": {
      "needs_background": "light"
     },
     "output_type": "display_data"
    }
   ],
   "source": [
    "score['Score'].nlargest(10).plot(kind='barh')"
   ]
  },
  {
   "cell_type": "code",
   "execution_count": 52,
   "id": "da2c22ea",
   "metadata": {},
   "outputs": [],
   "source": [
    "selected_columns=score['Score'].nlargest(10).index"
   ]
  },
  {
   "cell_type": "code",
   "execution_count": 53,
   "id": "5521c7f3",
   "metadata": {},
   "outputs": [
    {
     "data": {
      "text/plain": [
       "Index(['Total day minutes', 'Number vmail messages', 'Total day charge',\n",
       "       'Total eve minutes', 'Customer service calls', 'Total night minutes',\n",
       "       'Total intl calls', 'Total eve charge', 'Total intl minutes',\n",
       "       'Account length'],\n",
       "      dtype='object')"
      ]
     },
     "execution_count": 53,
     "metadata": {},
     "output_type": "execute_result"
    }
   ],
   "source": [
    "selected_columns"
   ]
  },
  {
   "cell_type": "code",
   "execution_count": 54,
   "id": "bd8fc184",
   "metadata": {},
   "outputs": [],
   "source": [
    "x=df[selected_columns]"
   ]
  },
  {
   "cell_type": "code",
   "execution_count": 55,
   "id": "398a23f6",
   "metadata": {},
   "outputs": [],
   "source": [
    "from sklearn.linear_model import LogisticRegression\n",
    "from sklearn.tree import DecisionTreeClassifier\n",
    "from sklearn.naive_bayes import GaussianNB\n",
    "from sklearn.ensemble import RandomForestClassifier\n",
    "from sklearn.neighbors import KNeighborsClassifier"
   ]
  },
  {
   "cell_type": "code",
   "execution_count": 56,
   "id": "c6bc441e",
   "metadata": {},
   "outputs": [],
   "source": [
    "models={\n",
    "    'logisticsRegression':LogisticRegression(),\n",
    "    'DecisionTree':DecisionTreeClassifier(),\n",
    "    'naive_bsyes':GaussianNB(),\n",
    "    'Random_forest_classifier':RandomForestClassifier(),\n",
    "    'KNN':KNeighborsClassifier()\n",
    "}"
   ]
  },
  {
   "cell_type": "code",
   "execution_count": 112,
   "id": "5e8c5f48",
   "metadata": {},
   "outputs": [
    {
     "name": "stdout",
     "output_type": "stream",
     "text": [
      "logisticsRegression accuracy_score: 0.85375\n",
      "DecisionTree accuracy_score: 0.86375\n",
      "naive_bsyes accuracy_score: 0.88125\n",
      "Random_forest_classifier accuracy_score: 0.91\n",
      "KNN accuracy_score: 0.87625\n"
     ]
    }
   ],
   "source": [
    "for name,model in models.items():\n",
    "    cls=model.fit(x_train,y_train)\n",
    "    print(f\"{name} accuracy_score: {cls.score(x_test,y_test)}\")"
   ]
  },
  {
   "cell_type": "markdown",
   "id": "75019b46",
   "metadata": {},
   "source": [
    "# Logistic Regression"
   ]
  },
  {
   "cell_type": "code",
   "execution_count": 58,
   "id": "753bd623",
   "metadata": {},
   "outputs": [
    {
     "data": {
      "text/plain": [
       "0.85375"
      ]
     },
     "execution_count": 58,
     "metadata": {},
     "output_type": "execute_result"
    }
   ],
   "source": [
    "model=LogisticRegression().fit(x_train,y_train)\n",
    "model.score(x_test,y_test)"
   ]
  },
  {
   "cell_type": "code",
   "execution_count": 59,
   "id": "f2290a40",
   "metadata": {},
   "outputs": [
    {
     "data": {
      "text/plain": [
       "<sklearn.metrics._plot.confusion_matrix.ConfusionMatrixDisplay at 0x269dbf07310>"
      ]
     },
     "execution_count": 59,
     "metadata": {},
     "output_type": "execute_result"
    },
    {
     "data": {
      "image/png": "[encoded data removed]",
      "text/plain": [
       "<Figure size 432x288 with 2 Axes>"
      ]
     },
     "metadata": {
      "needs_background": "light"
     },
     "output_type": "display_data"
    }
   ],
   "source": [
    "from sklearn.metrics import plot_confusion_matrix,confusion_matrix\n",
    "plot_confusion_matrix(model,x_test,y_test,cmap='Blues')"
   ]
  },
  {
   "cell_type": "code",
   "execution_count": 60,
   "id": "cb4f32ee",
   "metadata": {},
   "outputs": [],
   "source": [
    "y_pred=model.predict(x_test)"
   ]
  },
  {
   "cell_type": "code",
   "execution_count": 61,
   "id": "020a8d47",
   "metadata": {},
   "outputs": [
    {
     "name": "stdout",
     "output_type": "stream",
     "text": [
      "              precision    recall  f1-score   support\n",
      "\n",
      "           0    0.85915   0.98968   0.91981       678\n",
      "           1    0.63158   0.09836   0.17021       122\n",
      "\n",
      "    accuracy                        0.85375       800\n",
      "   macro avg    0.74537   0.54402   0.54501       800\n",
      "weighted avg    0.82445   0.85375   0.80549       800\n",
      "\n"
     ]
    }
   ],
   "source": [
    "from sklearn.metrics import classification_report\n",
    "print(classification_report(y_test,y_pred,digits=5))"
   ]
  },
  {
   "cell_type": "markdown",
   "id": "65fd190a",
   "metadata": {},
   "source": [
    "# Hyper parameter tuning of logisticRegression"
   ]
  },
  {
   "cell_type": "code",
   "execution_count": 62,
   "id": "404b0043",
   "metadata": {},
   "outputs": [],
   "source": [
    "model = LogisticRegression()\n",
    "solvers = ['newton-cg', 'lbfgs', 'liblinear']\n",
    "penalty = ['l2',\"l1\"]\n",
    "c_values = [100, 10, 1.0, 0.1, 0.01]"
   ]
  },
  {
   "cell_type": "code",
   "execution_count": 63,
   "id": "6278b8d3",
   "metadata": {},
   "outputs": [],
   "source": [
    "random_grid = {'n_estimators': model,\n",
    "               'solvers':solvers,\n",
    "               \"penalty\":penalty,\n",
    "               'c_values':c_values}"
   ]
  },
  {
   "cell_type": "code",
   "execution_count": 64,
   "id": "93fa26c3",
   "metadata": {},
   "outputs": [],
   "source": [
    "from sklearn.model_selection import RepeatedStratifiedKFold\n",
    "from sklearn.model_selection import GridSearchCV\n",
    "grid = dict(solver=solvers,penalty=penalty,C=c_values)\n",
    "cv = RepeatedStratifiedKFold(n_splits=10, n_repeats=3, random_state=1)\n",
    "grid_search = GridSearchCV(estimator=model, param_grid=grid, n_jobs=-1, cv=cv, scoring='accuracy',error_score=0)\n",
    "grid_result = grid_search.fit(x_train,y_train)"
   ]
  },
  {
   "cell_type": "code",
   "execution_count": 65,
   "id": "b3219517",
   "metadata": {},
   "outputs": [
    {
     "data": {
      "text/plain": [
       "0.8599543825350278"
      ]
     },
     "execution_count": 65,
     "metadata": {},
     "output_type": "execute_result"
    }
   ],
   "source": [
    "grid_result.best_score_"
   ]
  },
  {
   "cell_type": "code",
   "execution_count": 66,
   "id": "33e8029a",
   "metadata": {},
   "outputs": [
    {
     "data": {
      "text/plain": [
       "{'C': 0.01, 'penalty': 'l2', 'solver': 'liblinear'}"
      ]
     },
     "execution_count": 66,
     "metadata": {},
     "output_type": "execute_result"
    }
   ],
   "source": [
    "grid_result.best_params_"
   ]
  },
  {
   "cell_type": "code",
   "execution_count": 67,
   "id": "1ef889c9",
   "metadata": {},
   "outputs": [],
   "source": [
    "model=LogisticRegression(C=0.1,penalty='l2',solver='liblinear').fit(x_train,y_train)"
   ]
  },
  {
   "cell_type": "code",
   "execution_count": 68,
   "id": "5fb4b42f",
   "metadata": {},
   "outputs": [],
   "source": [
    "y_pred=model.predict(x_test)"
   ]
  },
  {
   "cell_type": "code",
   "execution_count": 69,
   "id": "e404a945",
   "metadata": {},
   "outputs": [
    {
     "name": "stdout",
     "output_type": "stream",
     "text": [
      "              precision    recall  f1-score   support\n",
      "\n",
      "           0    0.85915   0.98968   0.91981       678\n",
      "           1    0.63158   0.09836   0.17021       122\n",
      "\n",
      "    accuracy                        0.85375       800\n",
      "   macro avg    0.74537   0.54402   0.54501       800\n",
      "weighted avg    0.82445   0.85375   0.80549       800\n",
      "\n"
     ]
    }
   ],
   "source": [
    "from sklearn.metrics import classification_report\n",
    "print(classification_report(y_test,y_pred,digits=5))"
   ]
  },
  {
   "cell_type": "code",
   "execution_count": 70,
   "id": "3b7b0ec6",
   "metadata": {},
   "outputs": [
    {
     "data": {
      "text/plain": [
       "<sklearn.metrics._plot.confusion_matrix.ConfusionMatrixDisplay at 0x269d4b7f670>"
      ]
     },
     "execution_count": 70,
     "metadata": {},
     "output_type": "execute_result"
    },
    {
     "data": {
      "image/png": "[encoded data removed]",
      "text/plain": [
       "<Figure size 432x288 with 2 Axes>"
      ]
     },
     "metadata": {
      "needs_background": "light"
     },
     "output_type": "display_data"
    }
   ],
   "source": [
    "from sklearn.metrics import plot_confusion_matrix\n",
    "plot_confusion_matrix(model,x_test,y_test,cmap='Blues')"
   ]
  },
  {
   "cell_type": "markdown",
   "id": "a1421a34",
   "metadata": {},
   "source": [
    "# kfold and cross val score of support vector classifier"
   ]
  },
  {
   "cell_type": "code",
   "execution_count": 71,
   "id": "57e06a57",
   "metadata": {},
   "outputs": [],
   "source": [
    "from sklearn.model_selection import KFold,cross_val_score\n",
    "kfold = KFold(n_splits=10)\n",
    "cv_result =cross_val_score(model,x_train,y_train,cv=kfold)"
   ]
  },
  {
   "cell_type": "code",
   "execution_count": 72,
   "id": "6afd7920",
   "metadata": {},
   "outputs": [
    {
     "data": {
      "text/plain": [
       "array([0.84491979, 0.87165775, 0.85561497, 0.85026738, 0.88770053,\n",
       "       0.86631016, 0.83870968, 0.88172043, 0.88172043, 0.82795699])"
      ]
     },
     "execution_count": 72,
     "metadata": {},
     "output_type": "execute_result"
    }
   ],
   "source": [
    "cv_result"
   ]
  },
  {
   "cell_type": "markdown",
   "id": "3ad902b6",
   "metadata": {},
   "source": [
    "# Hyperparameter tuning of svm|"
   ]
  },
  {
   "cell_type": "code",
   "execution_count": 73,
   "id": "694051f7",
   "metadata": {},
   "outputs": [],
   "source": [
    "model = SVC()\n",
    "kernel = ['poly', 'rbf', 'sigmoid']\n",
    "C = [50, 10, 1.0, 0.1, 0.01]\n",
    "gamma = ['scale']\n",
    "# define grid search\n",
    "grid = dict(kernel=kernel,C=C,gamma=gamma)\n",
    "cv = RepeatedStratifiedKFold(n_splits=10, n_repeats=3, random_state=1)\n",
    "grid_search = GridSearchCV(estimator=model, param_grid=grid, n_jobs=-1, cv=cv, scoring='accuracy',error_score=0)\n",
    "grid_result = grid_search.fit(x_train,y_train)"
   ]
  },
  {
   "cell_type": "code",
   "execution_count": 74,
   "id": "08e04979",
   "metadata": {},
   "outputs": [
    {
     "data": {
      "text/plain": [
       "{'C': 1.0, 'gamma': 'scale', 'kernel': 'rbf'}"
      ]
     },
     "execution_count": 74,
     "metadata": {},
     "output_type": "execute_result"
    }
   ],
   "source": [
    "grid_result.best_params_"
   ]
  },
  {
   "cell_type": "code",
   "execution_count": 75,
   "id": "db44250d",
   "metadata": {},
   "outputs": [],
   "source": [
    "model=SVC(C=50,gamma='scale',kernel='rbf').fit(x_train,y_train)\n",
    "model.score(x_test,y_test)\n",
    "y_pred=model.predict(x_test)"
   ]
  },
  {
   "cell_type": "code",
   "execution_count": 76,
   "id": "4baf80dc",
   "metadata": {},
   "outputs": [
    {
     "data": {
      "text/plain": [
       "<sklearn.metrics._plot.confusion_matrix.ConfusionMatrixDisplay at 0x269dc0a9c70>"
      ]
     },
     "execution_count": 76,
     "metadata": {},
     "output_type": "execute_result"
    },
    {
     "data": {
      "image/png": "[encoded data removed]",
      "text/plain": [
       "<Figure size 432x288 with 2 Axes>"
      ]
     },
     "metadata": {
      "needs_background": "light"
     },
     "output_type": "display_data"
    }
   ],
   "source": [
    "plot_confusion_matrix(model,x_test,y_test,cmap='Blues')"
   ]
  },
  {
   "cell_type": "code",
   "execution_count": 77,
   "id": "1b43395c",
   "metadata": {},
   "outputs": [
    {
     "name": "stdout",
     "output_type": "stream",
     "text": [
      "              precision    recall  f1-score   support\n",
      "\n",
      "           0       0.92      0.94      0.93       678\n",
      "           1       0.62      0.52      0.57       122\n",
      "\n",
      "    accuracy                           0.88       800\n",
      "   macro avg       0.77      0.73      0.75       800\n",
      "weighted avg       0.87      0.88      0.87       800\n",
      "\n"
     ]
    }
   ],
   "source": [
    "print(classification_report(y_test,y_pred))"
   ]
  },
  {
   "cell_type": "markdown",
   "id": "8c192de1",
   "metadata": {},
   "source": [
    "# hyper parameter tuning KNN"
   ]
  },
  {
   "cell_type": "code",
   "execution_count": 78,
   "id": "f3b620de",
   "metadata": {},
   "outputs": [],
   "source": [
    "model = KNeighborsClassifier()\n",
    "n_neighbors = range(1, 100, 3)\n",
    "weights = ['uniform', 'distance']\n",
    "metric = ['euclidean', 'manhattan', 'minkowski']\n",
    "# define grid search\n",
    "grid = dict(n_neighbors=n_neighbors,weights=weights,metric=metric)\n",
    "cv = RepeatedStratifiedKFold(n_splits=10,n_repeats=3,random_state=1)\n",
    "grid_search = GridSearchCV(estimator=model, param_grid=grid, n_jobs=-1, cv=cv, scoring='accuracy')\n",
    "grid_result = grid_search.fit(x_train,y_train)"
   ]
  },
  {
   "cell_type": "code",
   "execution_count": 79,
   "id": "e6473f43",
   "metadata": {},
   "outputs": [
    {
     "data": {
      "text/plain": [
       "{'metric': 'manhattan', 'n_neighbors': 7, 'weights': 'uniform'}"
      ]
     },
     "execution_count": 79,
     "metadata": {},
     "output_type": "execute_result"
    }
   ],
   "source": [
    "grid_result.best_params_"
   ]
  },
  {
   "cell_type": "code",
   "execution_count": 80,
   "id": "a7db9d32",
   "metadata": {},
   "outputs": [],
   "source": [
    "model = KNeighborsClassifier(metric= 'manhattan', n_neighbors= 7, weights='uniform').fit(x_train,y_train)"
   ]
  },
  {
   "cell_type": "code",
   "execution_count": 81,
   "id": "7249c47c",
   "metadata": {},
   "outputs": [
    {
     "data": {
      "text/plain": [
       "0.87375"
      ]
     },
     "execution_count": 81,
     "metadata": {},
     "output_type": "execute_result"
    }
   ],
   "source": [
    "model.score(x_test,y_test)"
   ]
  },
  {
   "cell_type": "code",
   "execution_count": 82,
   "id": "1ad48a9f",
   "metadata": {},
   "outputs": [
    {
     "data": {
      "text/plain": [
       "<sklearn.metrics._plot.confusion_matrix.ConfusionMatrixDisplay at 0x269dc207160>"
      ]
     },
     "execution_count": 82,
     "metadata": {},
     "output_type": "execute_result"
    },
    {
     "data": {
      "image/png": "[encoded data removed]",
      "text/plain": [
       "<Figure size 432x288 with 2 Axes>"
      ]
     },
     "metadata": {
      "needs_background": "light"
     },
     "output_type": "display_data"
    }
   ],
   "source": [
    "plot_confusion_matrix(model,x_test,y_test,cmap='Blues')"
   ]
  },
  {
   "cell_type": "code",
   "execution_count": 83,
   "id": "e9145b05",
   "metadata": {},
   "outputs": [],
   "source": [
    "y_pred=model.predict(x_test)"
   ]
  },
  {
   "cell_type": "code",
   "execution_count": 84,
   "id": "e8a9b4b4",
   "metadata": {},
   "outputs": [
    {
     "name": "stdout",
     "output_type": "stream",
     "text": [
      "              precision    recall  f1-score   support\n",
      "\n",
      "           0    0.87322   0.99558   0.93039       678\n",
      "           1    0.88889   0.19672   0.32215       122\n",
      "\n",
      "    accuracy                        0.87375       800\n",
      "   macro avg    0.88106   0.59615   0.62627       800\n",
      "weighted avg    0.87561   0.87375   0.83764       800\n",
      "\n"
     ]
    }
   ],
   "source": [
    "print(classification_report(y_test,y_pred,digits=5))"
   ]
  },
  {
   "cell_type": "markdown",
   "id": "93768fec",
   "metadata": {},
   "source": [
    "# Hyper parameter tuning for DecisionTreeClassifier"
   ]
  },
  {
   "cell_type": "code",
   "execution_count": 85,
   "id": "c8d6ec55",
   "metadata": {},
   "outputs": [],
   "source": [
    "model=DecisionTreeClassifier()"
   ]
  },
  {
   "cell_type": "code",
   "execution_count": 86,
   "id": "88c85c94",
   "metadata": {},
   "outputs": [],
   "source": [
    "criterion=['gini','entropy']\n",
    "splitter=['best','random']\n",
    "max_depth=[2,4,5,10,15,20,25,30]"
   ]
  },
  {
   "cell_type": "code",
   "execution_count": 87,
   "id": "1ab28e90",
   "metadata": {},
   "outputs": [],
   "source": [
    "grid = dict(criterion=criterion, splitter=splitter, max_depth=max_depth)\n",
    "cv = RepeatedStratifiedKFold(n_splits=10,n_repeats=3,random_state=1)\n",
    "grid_search = GridSearchCV(estimator=model, param_grid=grid, n_jobs=-1, cv=cv, scoring='accuracy')\n",
    "grid_result = grid_search.fit(x_train,y_train)"
   ]
  },
  {
   "cell_type": "code",
   "execution_count": 88,
   "id": "0268722f",
   "metadata": {},
   "outputs": [
    {
     "data": {
      "text/plain": [
       "{'criterion': 'entropy', 'max_depth': 5, 'splitter': 'best'}"
      ]
     },
     "execution_count": 88,
     "metadata": {},
     "output_type": "execute_result"
    }
   ],
   "source": [
    "grid_result.best_params_"
   ]
  },
  {
   "cell_type": "code",
   "execution_count": 89,
   "id": "6eb57ee5",
   "metadata": {},
   "outputs": [],
   "source": [
    "model=DecisionTreeClassifier(criterion='entropy',max_depth=5,splitter='best').fit(x_train,y_train)"
   ]
  },
  {
   "cell_type": "code",
   "execution_count": 90,
   "id": "f55bf2c1",
   "metadata": {},
   "outputs": [
    {
     "data": {
      "text/plain": [
       "0.89625"
      ]
     },
     "execution_count": 90,
     "metadata": {},
     "output_type": "execute_result"
    }
   ],
   "source": [
    "model.score(x_test,y_test)"
   ]
  },
  {
   "cell_type": "code",
   "execution_count": 91,
   "id": "d0bb64b3",
   "metadata": {},
   "outputs": [],
   "source": [
    "y_pred=model.predict(x_test)"
   ]
  },
  {
   "cell_type": "code",
   "execution_count": 92,
   "id": "d9f9e62d",
   "metadata": {},
   "outputs": [
    {
     "data": {
      "text/plain": [
       "<sklearn.metrics._plot.confusion_matrix.ConfusionMatrixDisplay at 0x269dc353730>"
      ]
     },
     "execution_count": 92,
     "metadata": {},
     "output_type": "execute_result"
    },
    {
     "data": {
      "image/png": "[encoded data removed]",
      "text/plain": [
       "<Figure size 432x288 with 2 Axes>"
      ]
     },
     "metadata": {
      "needs_background": "light"
     },
     "output_type": "display_data"
    }
   ],
   "source": [
    "plot_confusion_matrix(model,x_test,y_test,cmap='Blues')"
   ]
  },
  {
   "cell_type": "code",
   "execution_count": 93,
   "id": "cfe05ef7",
   "metadata": {},
   "outputs": [
    {
     "name": "stdout",
     "output_type": "stream",
     "text": [
      "              precision    recall  f1-score   support\n",
      "\n",
      "           0       0.90      0.98      0.94       678\n",
      "           1       0.82      0.41      0.55       122\n",
      "\n",
      "    accuracy                           0.90       800\n",
      "   macro avg       0.86      0.70      0.74       800\n",
      "weighted avg       0.89      0.90      0.88       800\n",
      "\n"
     ]
    }
   ],
   "source": [
    "print(classification_report(y_test,y_pred))"
   ]
  },
  {
   "cell_type": "markdown",
   "id": "cf0dcfdd",
   "metadata": {},
   "source": [
    "# Hyper parameter tuning for random forest"
   ]
  },
  {
   "cell_type": "code",
   "execution_count": 94,
   "id": "ec76a405",
   "metadata": {},
   "outputs": [],
   "source": [
    "model = RandomForestClassifier()\n",
    "n_estimators = [10,50,75,100]\n",
    "max_features = ['sqrt','log2']\n",
    "# define grid search\n",
    "grid = dict(n_estimators=n_estimators,max_features=max_features )\n",
    "cv = RepeatedStratifiedKFold(n_splits=10,n_repeats=3,random_state=1)\n",
    "grid_search = GridSearchCV(estimator=model, param_grid=grid, n_jobs=-1, cv=cv, scoring='accuracy')\n",
    "grid_result = grid_search.fit(x_train,y_train)"
   ]
  },
  {
   "cell_type": "code",
   "execution_count": 95,
   "id": "b54bcc51",
   "metadata": {},
   "outputs": [
    {
     "data": {
      "text/plain": [
       "{'max_features': 'sqrt', 'n_estimators': 100}"
      ]
     },
     "execution_count": 95,
     "metadata": {},
     "output_type": "execute_result"
    }
   ],
   "source": [
    "grid_result.best_params_"
   ]
  },
  {
   "cell_type": "code",
   "execution_count": 96,
   "id": "58c7925e",
   "metadata": {},
   "outputs": [],
   "source": [
    "model = RandomForestClassifier(n_estimators=100,max_features='sqrt').fit(x_train,y_train)"
   ]
  },
  {
   "cell_type": "code",
   "execution_count": 97,
   "id": "2194130c",
   "metadata": {},
   "outputs": [
    {
     "data": {
      "text/plain": [
       "0.90875"
      ]
     },
     "execution_count": 97,
     "metadata": {},
     "output_type": "execute_result"
    }
   ],
   "source": [
    "model.score(x_test,y_test)"
   ]
  },
  {
   "cell_type": "code",
   "execution_count": 98,
   "id": "8ae03f63",
   "metadata": {},
   "outputs": [
    {
     "data": {
      "text/plain": [
       "<sklearn.metrics._plot.confusion_matrix.ConfusionMatrixDisplay at 0x269dc256700>"
      ]
     },
     "execution_count": 98,
     "metadata": {},
     "output_type": "execute_result"
    },
    {
     "data": {
      "image/png": "[encoded data removed]",
      "text/plain": [
       "<Figure size 432x288 with 2 Axes>"
      ]
     },
     "metadata": {
      "needs_background": "light"
     },
     "output_type": "display_data"
    }
   ],
   "source": [
    "plot_confusion_matrix(model,x_test,y_test,cmap='Blues')"
   ]
  },
  {
   "cell_type": "code",
   "execution_count": 99,
   "id": "78fbfa1a",
   "metadata": {},
   "outputs": [],
   "source": [
    "y_pred=model.predict(x_test)"
   ]
  },
  {
   "cell_type": "code",
   "execution_count": 100,
   "id": "f155d6b4",
   "metadata": {},
   "outputs": [
    {
     "name": "stdout",
     "output_type": "stream",
     "text": [
      "              precision    recall  f1-score   support\n",
      "\n",
      "           0       0.91      0.99      0.95       678\n",
      "           1       0.88      0.47      0.61       122\n",
      "\n",
      "    accuracy                           0.91       800\n",
      "   macro avg       0.89      0.73      0.78       800\n",
      "weighted avg       0.91      0.91      0.90       800\n",
      "\n"
     ]
    }
   ],
   "source": [
    "print(classification_report(y_test,y_pred))"
   ]
  },
  {
   "cell_type": "markdown",
   "id": "b7c019bb",
   "metadata": {},
   "source": [
    "# Kmeans clustering"
   ]
  },
  {
   "cell_type": "code",
   "execution_count": 101,
   "id": "1968e39b",
   "metadata": {},
   "outputs": [],
   "source": [
    "from sklearn.cluster import KMeans"
   ]
  },
  {
   "cell_type": "code",
   "execution_count": 102,
   "id": "5dd0374c",
   "metadata": {},
   "outputs": [
    {
     "data": {
      "text/plain": [
       "[<matplotlib.lines.Line2D at 0x269dc693910>]"
      ]
     },
     "execution_count": 102,
     "metadata": {},
     "output_type": "execute_result"
    },
    {
     "data": {
      "image/png": "[encoded data removed]",
      "text/plain": [
       "<Figure size 432x288 with 1 Axes>"
      ]
     },
     "metadata": {
      "needs_background": "light"
     },
     "output_type": "display_data"
    }
   ],
   "source": [
    "points=[]\n",
    "n_clusters=range(1,10)\n",
    "for i in n_clusters:\n",
    "    kmean=KMeans(n_clusters=i).fit(x)\n",
    "    points.append(kmean.inertia_)\n",
    "    \n",
    "plt.plot(n_clusters,points,'b*-', markersize=10,mec='r',mfc='r')"
   ]
  },
  {
   "cell_type": "code",
   "execution_count": 103,
   "id": "8519621a",
   "metadata": {},
   "outputs": [],
   "source": [
    "kmeans=KMeans(n_clusters=4)\n",
    "label=kmeans.fit_predict(x)"
   ]
  },
  {
   "cell_type": "code",
   "execution_count": 104,
   "id": "d28e32ad",
   "metadata": {},
   "outputs": [
    {
     "name": "stderr",
     "output_type": "stream",
     "text": [
      "<ipython-input-104-5e4d992ecb8d>:1: SettingWithCopyWarning: \n",
      "A value is trying to be set on a copy of a slice from a DataFrame.\n",
      "Try using .loc[row_indexer,col_indexer] = value instead\n",
      "\n",
      "See the caveats in the documentation: https://pandas.pydata.org/pandas-docs/stable/user_guide/indexing.html#returning-a-view-versus-a-copy\n",
      "  x['label']=label\n"
     ]
    }
   ],
   "source": [
    "x['label']=label"
   ]
  },
  {
   "cell_type": "code",
   "execution_count": 105,
   "id": "0f7ea388",
   "metadata": {},
   "outputs": [
    {
     "data": {
      "text/plain": [
       "0.17536884167580383"
      ]
     },
     "execution_count": 105,
     "metadata": {},
     "output_type": "execute_result"
    }
   ],
   "source": [
    "from sklearn.metrics import silhouette_score\n",
    "silhouette_score(x,label)"
   ]
  },
  {
   "cell_type": "markdown",
   "id": "77c68833",
   "metadata": {},
   "source": [
    "# Apply PCA"
   ]
  },
  {
   "cell_type": "code",
   "execution_count": 106,
   "id": "fd86c642",
   "metadata": {},
   "outputs": [],
   "source": [
    "from sklearn.decomposition import PCA\n",
    "pca=PCA(3)"
   ]
  },
  {
   "cell_type": "code",
   "execution_count": 107,
   "id": "13759082",
   "metadata": {},
   "outputs": [],
   "source": [
    "pc1=pca.fit_transform(x)"
   ]
  },
  {
   "cell_type": "code",
   "execution_count": 108,
   "id": "50970ccf",
   "metadata": {},
   "outputs": [],
   "source": [
    "principal_component = pd.DataFrame(data = pc1, columns = [\"PCA1\",\"PCA2\",\"PCA3\"])"
   ]
  },
  {
   "cell_type": "code",
   "execution_count": 109,
   "id": "74c5cdbb",
   "metadata": {},
   "outputs": [
    {
     "data": {
      "text/html": [
       "<div>\n",
       "<style scoped>\n",
       "    .dataframe tbody tr th:only-of-type {\n",
       "        vertical-align: middle;\n",
       "    }\n",
       "\n",
       "    .dataframe tbody tr th {\n",
       "        vertical-align: top;\n",
       "    }\n",
       "\n",
       "    .dataframe thead th {\n",
       "        text-align: right;\n",
       "    }\n",
       "</style>\n",
       "<table border=\"1\" class=\"dataframe\">\n",
       "  <thead>\n",
       "    <tr style=\"text-align: right;\">\n",
       "      <th></th>\n",
       "      <th>PCA1</th>\n",
       "      <th>PCA2</th>\n",
       "      <th>PCA3</th>\n",
       "    </tr>\n",
       "  </thead>\n",
       "  <tbody>\n",
       "    <tr>\n",
       "      <th>0</th>\n",
       "      <td>-90.208690</td>\n",
       "      <td>22.809557</td>\n",
       "      <td>28.055056</td>\n",
       "    </tr>\n",
       "    <tr>\n",
       "      <th>1</th>\n",
       "      <td>13.697482</td>\n",
       "      <td>31.485629</td>\n",
       "      <td>44.618326</td>\n",
       "    </tr>\n",
       "    <tr>\n",
       "      <th>2</th>\n",
       "      <td>-59.902573</td>\n",
       "      <td>48.368173</td>\n",
       "      <td>-79.522752</td>\n",
       "    </tr>\n",
       "    <tr>\n",
       "      <th>3</th>\n",
       "      <td>-117.978482</td>\n",
       "      <td>114.734128</td>\n",
       "      <td>-82.754868</td>\n",
       "    </tr>\n",
       "    <tr>\n",
       "      <th>4</th>\n",
       "      <td>15.249612</td>\n",
       "      <td>37.904299</td>\n",
       "      <td>-36.648587</td>\n",
       "    </tr>\n",
       "    <tr>\n",
       "      <th>...</th>\n",
       "      <td>...</td>\n",
       "      <td>...</td>\n",
       "      <td>...</td>\n",
       "    </tr>\n",
       "    <tr>\n",
       "      <th>2661</th>\n",
       "      <td>43.916273</td>\n",
       "      <td>20.194084</td>\n",
       "      <td>16.389820</td>\n",
       "    </tr>\n",
       "    <tr>\n",
       "      <th>2662</th>\n",
       "      <td>16.438502</td>\n",
       "      <td>28.134676</td>\n",
       "      <td>73.638596</td>\n",
       "    </tr>\n",
       "    <tr>\n",
       "      <th>2663</th>\n",
       "      <td>-50.283729</td>\n",
       "      <td>33.972296</td>\n",
       "      <td>-35.347830</td>\n",
       "    </tr>\n",
       "    <tr>\n",
       "      <th>2664</th>\n",
       "      <td>-2.109237</td>\n",
       "      <td>-82.609298</td>\n",
       "      <td>38.816712</td>\n",
       "    </tr>\n",
       "    <tr>\n",
       "      <th>2665</th>\n",
       "      <td>-60.138400</td>\n",
       "      <td>-38.431654</td>\n",
       "      <td>64.003510</td>\n",
       "    </tr>\n",
       "  </tbody>\n",
       "</table>\n",
       "<p>2666 rows × 3 columns</p>\n",
       "</div>"
      ],
      "text/plain": [
       "            PCA1        PCA2       PCA3\n",
       "0     -90.208690   22.809557  28.055056\n",
       "1      13.697482   31.485629  44.618326\n",
       "2     -59.902573   48.368173 -79.522752\n",
       "3    -117.978482  114.734128 -82.754868\n",
       "4      15.249612   37.904299 -36.648587\n",
       "...          ...         ...        ...\n",
       "2661   43.916273   20.194084  16.389820\n",
       "2662   16.438502   28.134676  73.638596\n",
       "2663  -50.283729   33.972296 -35.347830\n",
       "2664   -2.109237  -82.609298  38.816712\n",
       "2665  -60.138400  -38.431654  64.003510\n",
       "\n",
       "[2666 rows x 3 columns]"
      ]
     },
     "execution_count": 109,
     "metadata": {},
     "output_type": "execute_result"
    }
   ],
   "source": [
    "principal_component"
   ]
  },
  {
   "cell_type": "code",
   "execution_count": null,
   "id": "6ef0b3d6",
   "metadata": {},
   "outputs": [],
   "source": []
  }
 ],
 "metadata": {
  "kernelspec": {
   "display_name": "Python 3",
   "language": "python",
   "name": "python3"
  },
  "language_info": {
   "codemirror_mode": {
    "name": "ipython",
    "version": 3
   },
   "file_extension": ".py",
   "mimetype": "text/x-python",
   "name": "python",
   "nbconvert_exporter": "python",
   "pygments_lexer": "ipython3",
   "version": "3.8.8"
  }
 },
 "nbformat": 4,
 "nbformat_minor": 5
}
